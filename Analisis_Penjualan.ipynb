{
 "cells": [
  {
   "cell_type": "markdown",
   "id": "788def73",
   "metadata": {},
   "source": [
    "Link URL Dashboard:\n",
    "https://public.tableau.com/views/Analysischocolate/Main?:language=en-US&:sid=&:redirect=auth&:display_count=n&:origin=viz_share_link"
   ]
  },
  {
   "cell_type": "markdown",
   "id": "17a08897",
   "metadata": {},
   "source": [
    "# i. Introduction\n",
    "----\n",
    "\n",
    "Nama : Avisa Rahma Benedicta\n",
    "\n",
    "Program ini dibuat untuk menganalisis penjualan cokelat menggunakan metode analisis deskriptif dan analisis inferensial, visualisasi menggunakan matplotlib, plotly dan tableau"
   ]
  },
  {
   "cell_type": "markdown",
   "id": "41a5cfd2",
   "metadata": {},
   "source": [
    "# ii. Problem Statement and Dataset Description\n",
    "---"
   ]
  },
  {
   "cell_type": "markdown",
   "id": "e8331035",
   "metadata": {},
   "source": [
    "## Problem Statement dan SMART\n",
    "---\n",
    "\n",
    "Latar Belakang:\n",
    "\n",
    "Perusahaan Coco adalah perusahaan bisnis cokelat yang baru berdiri selama 8 bulan dengan target pasarnya di beberapa negara. Karena perusahaan ini masih terbilang baru, perusahaan belum memiliki pemahaman yang lengkap tentang pola dan faktor pendorong kinerja penjualan walaupun data penjualan cokelat telah terkumpul. Keterbatasan dalam menganalisis data menghambat kemampuan perusahaan untuk mengidentifikasi area yang perlu perbaikan yang dapat memengaruhi pengambilan keputusan bisnis yang lebih efektif dan efisien.\n",
    "\n",
    "Problem statement:\n",
    "\n",
    "Dalam 1 minggu ke depan, menyelesaikan analisis eksplorasi data (EDA) dari data penjualan cokelat periode Januari-Agustus 2022. Tujuanya yaitu mengidentifikasi minimal 3 insight strategis guna memberikan dasar data yang kuat untuk merumuskan rekomendasi bisnis yang dapat meningkatkan efektivitas strategi penjualan dan mengoptimalkan pertumbuhan perusahaan.\n",
    "\n",
    "Sumber dataset:\n",
    "https://www.kaggle.com/datasets/atharvasoundankar/chocolate-sales\n",
    "\n",
    "\n",
    "Penjabaran SMART\n",
    "\n",
    "1. Specific: \n",
    "\n",
    "Melakukan analisis eksplorasi data (EDA) pada data penjualan cokelat dari Januari-Agustus 2022 untuk menemukan insight yang dapat membentuk rekomendasi bisnis.\n",
    "\n",
    "2. Measurable:\n",
    "\n",
    "Mendapatkan minimal 3 insight stategis dari analisis ekplorasi data (EDA).\n",
    "\n",
    "3. Achievable: \n",
    "\n",
    "Melakukan analisis data menggunakan Python dan library seperti Pandas, Matplotlib, dan Seaborn, sesuai dengan kemampuan teknis yang saya miliki.\n",
    "\n",
    "4. Relevant:\n",
    "\n",
    "Tujuan ini selaras dengan kebutuhan bisnis untuk meningkatkan efektivitas strategi penjualan dan pertumbuhan perusahaan, serta menjawab permasalahan kurangnya pemahaman terhadap data yang telah diuraikan dalam problem statement.\n",
    "\n",
    "5. Time Bound:\n",
    "\n",
    "Seluruh proses EDA dan dokumentasi insight akan diselesaikan dalam waktu 7 hari ke depan sejak dimulainya analisis.\n",
    "\n",
    "Metrics: Gross Merchandise Value\n",
    "\n",
    "Stakeholders: tim pemasaran, tim manajemen penjualan, tim operasional\n"
   ]
  },
  {
   "cell_type": "markdown",
   "id": "2e60ea5e",
   "metadata": {},
   "source": [
    "## Penjabaran Masalah\n",
    "---\n",
    "\n",
    "1. Bagaimana tren penjualan produk dari waktu ke waktu?\n",
    "\n",
    "2. Pada bulan apa jumlah pengiriman produk mencapai angka tertinggi?\n",
    "\n",
    "3. Apakah semakin banyak produk yang terjual berarti pendapatannya juga pasti semakin tinggi?\n",
    "\n",
    "4. Negara mana yang paling banyak melakukan transaksi penjualan cokelat?\n",
    "\n",
    "5. Bagaimana persentase penjualan cokelat di tiap negara?\n",
    "\n",
    "6. Apakah ada perbedaan yang signifikan Pendapatan penjualan cokelat antar negara?\n",
    "\n",
    "7. Produk cokelat apa yang paling banyak dibeli di setiap negara?\n",
    "\n",
    "8. Bagaimana kinerja penjualan setiap sales person?"
   ]
  },
  {
   "cell_type": "markdown",
   "id": "5ad18860",
   "metadata": {},
   "source": [
    "# iii. Data Loading\n",
    "---"
   ]
  },
  {
   "cell_type": "code",
   "execution_count": 1,
   "id": "2842f9a3",
   "metadata": {},
   "outputs": [],
   "source": [
    "# Import package\n",
    "import pandas as pd\n",
    "import numpy as np\n",
    "from scipy import stats\n",
    "\n",
    "import matplotlib.pyplot as plt\n",
    "import plotly.express as px"
   ]
  },
  {
   "cell_type": "code",
   "execution_count": 2,
   "id": "43419a51",
   "metadata": {},
   "outputs": [
    {
     "data": {
      "text/html": [
       "<div>\n",
       "<style scoped>\n",
       "    .dataframe tbody tr th:only-of-type {\n",
       "        vertical-align: middle;\n",
       "    }\n",
       "\n",
       "    .dataframe tbody tr th {\n",
       "        vertical-align: top;\n",
       "    }\n",
       "\n",
       "    .dataframe thead th {\n",
       "        text-align: right;\n",
       "    }\n",
       "</style>\n",
       "<table border=\"1\" class=\"dataframe\">\n",
       "  <thead>\n",
       "    <tr style=\"text-align: right;\">\n",
       "      <th></th>\n",
       "      <th>Sales Person</th>\n",
       "      <th>Country</th>\n",
       "      <th>Product</th>\n",
       "      <th>Date</th>\n",
       "      <th>Amount</th>\n",
       "      <th>Boxes Shipped</th>\n",
       "    </tr>\n",
       "  </thead>\n",
       "  <tbody>\n",
       "    <tr>\n",
       "      <th>0</th>\n",
       "      <td>Jehu Rudeforth</td>\n",
       "      <td>UK</td>\n",
       "      <td>Mint Chip Choco</td>\n",
       "      <td>04-Jan-22</td>\n",
       "      <td>$5,320</td>\n",
       "      <td>180</td>\n",
       "    </tr>\n",
       "    <tr>\n",
       "      <th>1</th>\n",
       "      <td>Van Tuxwell</td>\n",
       "      <td>India</td>\n",
       "      <td>85% Dark Bars</td>\n",
       "      <td>01-Aug-22</td>\n",
       "      <td>$7,896</td>\n",
       "      <td>94</td>\n",
       "    </tr>\n",
       "    <tr>\n",
       "      <th>2</th>\n",
       "      <td>Gigi Bohling</td>\n",
       "      <td>India</td>\n",
       "      <td>Peanut Butter Cubes</td>\n",
       "      <td>07-Jul-22</td>\n",
       "      <td>$4,501</td>\n",
       "      <td>91</td>\n",
       "    </tr>\n",
       "    <tr>\n",
       "      <th>3</th>\n",
       "      <td>Jan Morforth</td>\n",
       "      <td>Australia</td>\n",
       "      <td>Peanut Butter Cubes</td>\n",
       "      <td>27-Apr-22</td>\n",
       "      <td>$12,726</td>\n",
       "      <td>342</td>\n",
       "    </tr>\n",
       "    <tr>\n",
       "      <th>4</th>\n",
       "      <td>Jehu Rudeforth</td>\n",
       "      <td>UK</td>\n",
       "      <td>Peanut Butter Cubes</td>\n",
       "      <td>24-Feb-22</td>\n",
       "      <td>$13,685</td>\n",
       "      <td>184</td>\n",
       "    </tr>\n",
       "    <tr>\n",
       "      <th>...</th>\n",
       "      <td>...</td>\n",
       "      <td>...</td>\n",
       "      <td>...</td>\n",
       "      <td>...</td>\n",
       "      <td>...</td>\n",
       "      <td>...</td>\n",
       "    </tr>\n",
       "    <tr>\n",
       "      <th>1089</th>\n",
       "      <td>Karlen McCaffrey</td>\n",
       "      <td>Australia</td>\n",
       "      <td>Spicy Special Slims</td>\n",
       "      <td>17-May-22</td>\n",
       "      <td>$4,410</td>\n",
       "      <td>323</td>\n",
       "    </tr>\n",
       "    <tr>\n",
       "      <th>1090</th>\n",
       "      <td>Jehu Rudeforth</td>\n",
       "      <td>USA</td>\n",
       "      <td>White Choc</td>\n",
       "      <td>07-Jun-22</td>\n",
       "      <td>$6,559</td>\n",
       "      <td>119</td>\n",
       "    </tr>\n",
       "    <tr>\n",
       "      <th>1091</th>\n",
       "      <td>Ches Bonnell</td>\n",
       "      <td>Canada</td>\n",
       "      <td>Organic Choco Syrup</td>\n",
       "      <td>26-Jul-22</td>\n",
       "      <td>$574</td>\n",
       "      <td>217</td>\n",
       "    </tr>\n",
       "    <tr>\n",
       "      <th>1092</th>\n",
       "      <td>Dotty Strutley</td>\n",
       "      <td>India</td>\n",
       "      <td>Eclairs</td>\n",
       "      <td>28-Jul-22</td>\n",
       "      <td>$2,086</td>\n",
       "      <td>384</td>\n",
       "    </tr>\n",
       "    <tr>\n",
       "      <th>1093</th>\n",
       "      <td>Karlen McCaffrey</td>\n",
       "      <td>India</td>\n",
       "      <td>70% Dark Bites</td>\n",
       "      <td>23-May-22</td>\n",
       "      <td>$5,075</td>\n",
       "      <td>344</td>\n",
       "    </tr>\n",
       "  </tbody>\n",
       "</table>\n",
       "<p>1094 rows × 6 columns</p>\n",
       "</div>"
      ],
      "text/plain": [
       "          Sales Person    Country              Product       Date    Amount  \\\n",
       "0       Jehu Rudeforth         UK      Mint Chip Choco  04-Jan-22   $5,320    \n",
       "1          Van Tuxwell      India        85% Dark Bars  01-Aug-22   $7,896    \n",
       "2         Gigi Bohling      India  Peanut Butter Cubes  07-Jul-22   $4,501    \n",
       "3         Jan Morforth  Australia  Peanut Butter Cubes  27-Apr-22  $12,726    \n",
       "4       Jehu Rudeforth         UK  Peanut Butter Cubes  24-Feb-22  $13,685    \n",
       "...                ...        ...                  ...        ...       ...   \n",
       "1089  Karlen McCaffrey  Australia  Spicy Special Slims  17-May-22   $4,410    \n",
       "1090    Jehu Rudeforth        USA           White Choc  07-Jun-22   $6,559    \n",
       "1091      Ches Bonnell     Canada  Organic Choco Syrup  26-Jul-22     $574    \n",
       "1092    Dotty Strutley      India              Eclairs  28-Jul-22   $2,086    \n",
       "1093  Karlen McCaffrey      India       70% Dark Bites  23-May-22   $5,075    \n",
       "\n",
       "      Boxes Shipped  \n",
       "0               180  \n",
       "1                94  \n",
       "2                91  \n",
       "3               342  \n",
       "4               184  \n",
       "...             ...  \n",
       "1089            323  \n",
       "1090            119  \n",
       "1091            217  \n",
       "1092            384  \n",
       "1093            344  \n",
       "\n",
       "[1094 rows x 6 columns]"
      ]
     },
     "execution_count": 2,
     "metadata": {},
     "output_type": "execute_result"
    }
   ],
   "source": [
    "# Membaca file csv\n",
    "data = pd.read_csv('D:/Projects/Analisis-Kinerja-Penjualan-Cokelat/dataset_raw.csv')\n",
    "\n",
    "data"
   ]
  },
  {
   "cell_type": "markdown",
   "id": "7448351a",
   "metadata": {},
   "source": [
    "Penjelasan nama-nama kolom:\n",
    "\n",
    "- Sales Person: Nama sales yang mengurus/bertanggung jawab dalam transaksi\n",
    "\n",
    "- Country: Nama negara  atau lokasi tempat terjadinya transaksi produk dijual\n",
    "\n",
    "- Product: Nama produk cokelat yang terjual\n",
    "\n",
    "- Date: Tanggal transaksi penjualan cokelat\n",
    "\n",
    "- Amount: Total pendapatan yang dihasilkan dari penjualan\n",
    "\n",
    "- Boxes Shipped: Jumlah kotak cokelat yang dikirim dalam pesanan"
   ]
  },
  {
   "cell_type": "code",
   "execution_count": 3,
   "id": "e5d019d3",
   "metadata": {},
   "outputs": [
    {
     "data": {
      "text/html": [
       "<div>\n",
       "<style scoped>\n",
       "    .dataframe tbody tr th:only-of-type {\n",
       "        vertical-align: middle;\n",
       "    }\n",
       "\n",
       "    .dataframe tbody tr th {\n",
       "        vertical-align: top;\n",
       "    }\n",
       "\n",
       "    .dataframe thead th {\n",
       "        text-align: right;\n",
       "    }\n",
       "</style>\n",
       "<table border=\"1\" class=\"dataframe\">\n",
       "  <thead>\n",
       "    <tr style=\"text-align: right;\">\n",
       "      <th></th>\n",
       "      <th>Sales Person</th>\n",
       "      <th>Country</th>\n",
       "      <th>Product</th>\n",
       "      <th>Date</th>\n",
       "      <th>Amount</th>\n",
       "      <th>Boxes Shipped</th>\n",
       "    </tr>\n",
       "  </thead>\n",
       "  <tbody>\n",
       "    <tr>\n",
       "      <th>0</th>\n",
       "      <td>Jehu Rudeforth</td>\n",
       "      <td>UK</td>\n",
       "      <td>Mint Chip Choco</td>\n",
       "      <td>04-Jan-22</td>\n",
       "      <td>$5,320</td>\n",
       "      <td>180</td>\n",
       "    </tr>\n",
       "    <tr>\n",
       "      <th>1</th>\n",
       "      <td>Van Tuxwell</td>\n",
       "      <td>India</td>\n",
       "      <td>85% Dark Bars</td>\n",
       "      <td>01-Aug-22</td>\n",
       "      <td>$7,896</td>\n",
       "      <td>94</td>\n",
       "    </tr>\n",
       "    <tr>\n",
       "      <th>2</th>\n",
       "      <td>Gigi Bohling</td>\n",
       "      <td>India</td>\n",
       "      <td>Peanut Butter Cubes</td>\n",
       "      <td>07-Jul-22</td>\n",
       "      <td>$4,501</td>\n",
       "      <td>91</td>\n",
       "    </tr>\n",
       "    <tr>\n",
       "      <th>3</th>\n",
       "      <td>Jan Morforth</td>\n",
       "      <td>Australia</td>\n",
       "      <td>Peanut Butter Cubes</td>\n",
       "      <td>27-Apr-22</td>\n",
       "      <td>$12,726</td>\n",
       "      <td>342</td>\n",
       "    </tr>\n",
       "    <tr>\n",
       "      <th>4</th>\n",
       "      <td>Jehu Rudeforth</td>\n",
       "      <td>UK</td>\n",
       "      <td>Peanut Butter Cubes</td>\n",
       "      <td>24-Feb-22</td>\n",
       "      <td>$13,685</td>\n",
       "      <td>184</td>\n",
       "    </tr>\n",
       "    <tr>\n",
       "      <th>...</th>\n",
       "      <td>...</td>\n",
       "      <td>...</td>\n",
       "      <td>...</td>\n",
       "      <td>...</td>\n",
       "      <td>...</td>\n",
       "      <td>...</td>\n",
       "    </tr>\n",
       "    <tr>\n",
       "      <th>1089</th>\n",
       "      <td>Karlen McCaffrey</td>\n",
       "      <td>Australia</td>\n",
       "      <td>Spicy Special Slims</td>\n",
       "      <td>17-May-22</td>\n",
       "      <td>$4,410</td>\n",
       "      <td>323</td>\n",
       "    </tr>\n",
       "    <tr>\n",
       "      <th>1090</th>\n",
       "      <td>Jehu Rudeforth</td>\n",
       "      <td>USA</td>\n",
       "      <td>White Choc</td>\n",
       "      <td>07-Jun-22</td>\n",
       "      <td>$6,559</td>\n",
       "      <td>119</td>\n",
       "    </tr>\n",
       "    <tr>\n",
       "      <th>1091</th>\n",
       "      <td>Ches Bonnell</td>\n",
       "      <td>Canada</td>\n",
       "      <td>Organic Choco Syrup</td>\n",
       "      <td>26-Jul-22</td>\n",
       "      <td>$574</td>\n",
       "      <td>217</td>\n",
       "    </tr>\n",
       "    <tr>\n",
       "      <th>1092</th>\n",
       "      <td>Dotty Strutley</td>\n",
       "      <td>India</td>\n",
       "      <td>Eclairs</td>\n",
       "      <td>28-Jul-22</td>\n",
       "      <td>$2,086</td>\n",
       "      <td>384</td>\n",
       "    </tr>\n",
       "    <tr>\n",
       "      <th>1093</th>\n",
       "      <td>Karlen McCaffrey</td>\n",
       "      <td>India</td>\n",
       "      <td>70% Dark Bites</td>\n",
       "      <td>23-May-22</td>\n",
       "      <td>$5,075</td>\n",
       "      <td>344</td>\n",
       "    </tr>\n",
       "  </tbody>\n",
       "</table>\n",
       "<p>1094 rows × 6 columns</p>\n",
       "</div>"
      ],
      "text/plain": [
       "          Sales Person    Country              Product       Date    Amount  \\\n",
       "0       Jehu Rudeforth         UK      Mint Chip Choco  04-Jan-22   $5,320    \n",
       "1          Van Tuxwell      India        85% Dark Bars  01-Aug-22   $7,896    \n",
       "2         Gigi Bohling      India  Peanut Butter Cubes  07-Jul-22   $4,501    \n",
       "3         Jan Morforth  Australia  Peanut Butter Cubes  27-Apr-22  $12,726    \n",
       "4       Jehu Rudeforth         UK  Peanut Butter Cubes  24-Feb-22  $13,685    \n",
       "...                ...        ...                  ...        ...       ...   \n",
       "1089  Karlen McCaffrey  Australia  Spicy Special Slims  17-May-22   $4,410    \n",
       "1090    Jehu Rudeforth        USA           White Choc  07-Jun-22   $6,559    \n",
       "1091      Ches Bonnell     Canada  Organic Choco Syrup  26-Jul-22     $574    \n",
       "1092    Dotty Strutley      India              Eclairs  28-Jul-22   $2,086    \n",
       "1093  Karlen McCaffrey      India       70% Dark Bites  23-May-22   $5,075    \n",
       "\n",
       "      Boxes Shipped  \n",
       "0               180  \n",
       "1                94  \n",
       "2                91  \n",
       "3               342  \n",
       "4               184  \n",
       "...             ...  \n",
       "1089            323  \n",
       "1090            119  \n",
       "1091            217  \n",
       "1092            384  \n",
       "1093            344  \n",
       "\n",
       "[1094 rows x 6 columns]"
      ]
     },
     "execution_count": 3,
     "metadata": {},
     "output_type": "execute_result"
    }
   ],
   "source": [
    "# Copy data ke variabel df\n",
    "df = data.copy()\n",
    "df"
   ]
  },
  {
   "cell_type": "code",
   "execution_count": 4,
   "id": "c2d442e7",
   "metadata": {},
   "outputs": [
    {
     "name": "stdout",
     "output_type": "stream",
     "text": [
      "<class 'pandas.core.frame.DataFrame'>\n",
      "RangeIndex: 1094 entries, 0 to 1093\n",
      "Data columns (total 6 columns):\n",
      " #   Column         Non-Null Count  Dtype \n",
      "---  ------         --------------  ----- \n",
      " 0   Sales Person   1094 non-null   object\n",
      " 1   Country        1094 non-null   object\n",
      " 2   Product        1094 non-null   object\n",
      " 3   Date           1094 non-null   object\n",
      " 4   Amount         1094 non-null   object\n",
      " 5   Boxes Shipped  1094 non-null   int64 \n",
      "dtypes: int64(1), object(5)\n",
      "memory usage: 51.4+ KB\n"
     ]
    }
   ],
   "source": [
    "# Menampilkan informasi dari tabel df\n",
    "df.info()"
   ]
  },
  {
   "cell_type": "markdown",
   "id": "73907269",
   "metadata": {},
   "source": [
    "Pada tabel df terdapat 6 kolom dan 1094 baris dengan jumlah values 1094 non-null dari setiap kolomnya dan juga terdapat tipe data dari masing-masing kolom yaitu integer dan object."
   ]
  },
  {
   "cell_type": "markdown",
   "id": "6e3ab2cb",
   "metadata": {},
   "source": [
    "# iv. Data Cleaning\n",
    "---"
   ]
  },
  {
   "cell_type": "code",
   "execution_count": 5,
   "id": "b0ab6ae6",
   "metadata": {},
   "outputs": [
    {
     "name": "stderr",
     "output_type": "stream",
     "text": [
      "C:\\Users\\avisa\\AppData\\Local\\Temp\\ipykernel_16016\\1598922694.py:2: FutureWarning: The default value of regex will change from True to False in a future version. In addition, single character regular expressions will *not* be treated as literal strings when regex=True.\n",
      "  df['Amount'] = df['Amount'].str.replace('$' ,'').str.replace(',', '')\n"
     ]
    }
   ],
   "source": [
    "# menghilangkan tanda $ dan ,\n",
    "df['Amount'] = df['Amount'].str.replace('$' ,'').str.replace(',', '')"
   ]
  },
  {
   "cell_type": "code",
   "execution_count": 6,
   "id": "e8136fd2",
   "metadata": {},
   "outputs": [
    {
     "name": "stdout",
     "output_type": "stream",
     "text": [
      "<class 'pandas.core.frame.DataFrame'>\n",
      "RangeIndex: 1094 entries, 0 to 1093\n",
      "Data columns (total 6 columns):\n",
      " #   Column         Non-Null Count  Dtype         \n",
      "---  ------         --------------  -----         \n",
      " 0   Sales Person   1094 non-null   object        \n",
      " 1   Country        1094 non-null   object        \n",
      " 2   Product        1094 non-null   object        \n",
      " 3   Date           1094 non-null   datetime64[ns]\n",
      " 4   Amount         1094 non-null   float64       \n",
      " 5   Boxes Shipped  1094 non-null   int64         \n",
      "dtypes: datetime64[ns](1), float64(1), int64(1), object(3)\n",
      "memory usage: 51.4+ KB\n"
     ]
    }
   ],
   "source": [
    "# Mengganti tipe data\n",
    "df['Amount'] = df['Amount'].astype(float)\n",
    "df['Date'] = pd.to_datetime(df['Date'])\n",
    "df.info()"
   ]
  },
  {
   "cell_type": "code",
   "execution_count": 7,
   "id": "88c5fe7c",
   "metadata": {},
   "outputs": [
    {
     "data": {
      "text/plain": [
       "Sales Person     0\n",
       "Country          0\n",
       "Product          0\n",
       "Date             0\n",
       "Amount           0\n",
       "Boxes Shipped    0\n",
       "dtype: int64"
      ]
     },
     "execution_count": 7,
     "metadata": {},
     "output_type": "execute_result"
    }
   ],
   "source": [
    "# Cek missing value\n",
    "df.isnull().sum()"
   ]
  },
  {
   "cell_type": "markdown",
   "id": "056c2e4b",
   "metadata": {},
   "source": [
    "Pada cleaning data dilakukan penggantian huruf/simbol/tanda baca yang dapat mengganggu analisis menjadi bentuk yang sesuai dan dapat dianalisis, seperti dalam tabel df ini dilakukan penggantian pada simbol '$'. Lalu berdasarkan pengecekan, tabel df tidak ditemukan adanya missing value pada data dan tidak ada duplicate value pada data."
   ]
  },
  {
   "cell_type": "code",
   "execution_count": 8,
   "id": "3d8c2828",
   "metadata": {},
   "outputs": [
    {
     "name": "stdout",
     "output_type": "stream",
     "text": [
      "<class 'pandas.core.frame.DataFrame'>\n",
      "RangeIndex: 1094 entries, 0 to 1093\n",
      "Data columns (total 6 columns):\n",
      " #   Column         Non-Null Count  Dtype         \n",
      "---  ------         --------------  -----         \n",
      " 0   Sales Person   1094 non-null   object        \n",
      " 1   Country        1094 non-null   object        \n",
      " 2   Product        1094 non-null   object        \n",
      " 3   Date           1094 non-null   datetime64[ns]\n",
      " 4   Amount         1094 non-null   float64       \n",
      " 5   Boxes Shipped  1094 non-null   int64         \n",
      "dtypes: datetime64[ns](1), float64(1), int64(1), object(3)\n",
      "memory usage: 51.4+ KB\n"
     ]
    }
   ],
   "source": [
    "# Melihat informasi dari data\n",
    "df.info()"
   ]
  },
  {
   "cell_type": "code",
   "execution_count": 9,
   "id": "38a0ef75",
   "metadata": {},
   "outputs": [],
   "source": [
    "# Simpan data yang sudah di cleaning\n",
    "df.to_csv('data_cleaning.csv')"
   ]
  },
  {
   "cell_type": "markdown",
   "id": "35f8c236",
   "metadata": {},
   "source": [
    "# v. Exploration Data Analysis\n",
    "---\n",
    "\n",
    "Pada bagian EDA ini dilakukan analisis berupa penghitungan statistik deskriptif dan inferensial serta berbagai visualisasi yang bertujuan untuk memahami karakteristik data dan mendapatkan insight sebagai pengambilan keputusan bisnis."
   ]
  },
  {
   "cell_type": "markdown",
   "id": "4288c44e",
   "metadata": {},
   "source": [
    "## 1. Tren Penjualan\n",
    "---\n",
    "\n",
    "Bagian ini bertujuan untuk menganalisis bagaimana tren penjualan berfluktuasi dari bulan Januari 2022 hingga Agustus 2022. Pada bagian ini juga akan menjawab pertanyaan:\n",
    "\n",
    "**Bagaimana tren penjualan produk dari waktu ke waktu?**\n",
    "\n",
    "---"
   ]
  },
  {
   "cell_type": "code",
   "execution_count": 10,
   "id": "e44a3191",
   "metadata": {},
   "outputs": [
    {
     "name": "stdout",
     "output_type": "stream",
     "text": [
      "        Date    Amount\n",
      "0  01 - 2022  896105.0\n",
      "1  02 - 2022  699377.0\n",
      "2  03 - 2022  749483.0\n",
      "3  04 - 2022  674051.0\n",
      "4  05 - 2022  752892.0\n",
      "5  06 - 2022  865144.0\n",
      "6  07 - 2022  803425.0\n",
      "7  08 - 2022  743148.0\n"
     ]
    }
   ],
   "source": [
    "# Melakukan extract waktu dulu, lalu grouping Date dan Ammount\n",
    "df['Date'] = df['Date'].dt.strftime('%m - %Y')\n",
    "df_monthly = df.groupby([\"Date\"])['Amount'].sum().reset_index()\n",
    "\n",
    "# Mensortir Date berdasarkan ascending\n",
    "df_sorted =df_monthly.sort_values(['Date'], ascending=True)\n",
    "print(df_sorted)"
   ]
  },
  {
   "cell_type": "code",
   "execution_count": 11,
   "id": "422e58ec",
   "metadata": {},
   "outputs": [
    {
     "data": {
      "image/png": "[encoded data removed]",
      "text/plain": [
       "<Figure size 1500x600 with 1 Axes>"
      ]
     },
     "metadata": {},
     "output_type": "display_data"
    },
    {
     "data": {
      "text/plain": [
       "<Figure size 640x480 with 0 Axes>"
      ]
     },
     "metadata": {},
     "output_type": "display_data"
    }
   ],
   "source": [
    "# Membuat line chart jumlah pendapatan per bulannya\n",
    "plt.figure(figsize=(15,6))\n",
    "plt.plot(df_sorted['Date'], df_sorted['Amount'], marker = 'o')\n",
    "\n",
    "plt.title('Amount per Month')\n",
    "plt.xlabel('Date')\n",
    "plt.ylabel('Amount')\n",
    "plt.figure()\n",
    "plt.show()"
   ]
  },
  {
   "cell_type": "markdown",
   "id": "c180371d",
   "metadata": {},
   "source": [
    "Hasil visualisasi di atas menampilkan total pendapatan cokelat di setiap bulannya.\n",
    "- Secara garis besar tren penjualan pada 8 bulan terakhir mengalami penurunan dan juga tren yang sangat fluktuatif\n",
    "- Penjualan dimulai dengan sangat kuat di awal tahun yaitu Januari 2022 dan di mana bulan ini mencapai angka tertinggi selama 8 bulan ini.\n",
    "- Penjualan mengalami penurunan yang signifikan di Februari dan mengalami penurunan kembali hingga ke titik terendah di bulan April. Ini menunjukkan kurangnya performa dalam penjualan.\n",
    "- Pada pertengahan tahun yaitu bulan Mei mengalami pemulihan penjualan hingga di bulan Juni mencapai titik tertinggi kedua yang hampir menyamai kinerja di bulan Januari.\n",
    "- Pada penjualan ini perlu dilakukan analisis lebih lanjut kenapa terjadi fluktuasi yang tinggi pada 8 bulan ini, tetapi data yang ada masih belum bisa menjelaskan dan tidak bisa dianalisis lebih lanjut."
   ]
  },
  {
   "cell_type": "markdown",
   "id": "f897832a",
   "metadata": {},
   "source": [
    "## 2. Jumlah Pengiriman Produk\n",
    "---\n",
    "\n",
    "Setelah mengetahui tren penjualan di bulan Januari-Agustus 2022 mengalami penurunan, selanjutnya adalah mengetahui jumlah produk yang terkirim di tiap bulannya. Pada bagian ini menjawab pertanyaan dari:\n",
    "\n",
    "**Pada bulan apa jumlah pengiriman produk mencapai angka tertinggi?**\n",
    "\n",
    "---"
   ]
  },
  {
   "cell_type": "code",
   "execution_count": 12,
   "id": "dc1a4fea",
   "metadata": {},
   "outputs": [
    {
     "data": {
      "text/html": [
       "<div>\n",
       "<style scoped>\n",
       "    .dataframe tbody tr th:only-of-type {\n",
       "        vertical-align: middle;\n",
       "    }\n",
       "\n",
       "    .dataframe tbody tr th {\n",
       "        vertical-align: top;\n",
       "    }\n",
       "\n",
       "    .dataframe thead th {\n",
       "        text-align: right;\n",
       "    }\n",
       "</style>\n",
       "<table border=\"1\" class=\"dataframe\">\n",
       "  <thead>\n",
       "    <tr style=\"text-align: right;\">\n",
       "      <th></th>\n",
       "      <th>Date</th>\n",
       "      <th>Boxes Shipped</th>\n",
       "    </tr>\n",
       "  </thead>\n",
       "  <tbody>\n",
       "    <tr>\n",
       "      <th>0</th>\n",
       "      <td>01 - 2022</td>\n",
       "      <td>27535</td>\n",
       "    </tr>\n",
       "    <tr>\n",
       "      <th>1</th>\n",
       "      <td>02 - 2022</td>\n",
       "      <td>18015</td>\n",
       "    </tr>\n",
       "    <tr>\n",
       "      <th>2</th>\n",
       "      <td>03 - 2022</td>\n",
       "      <td>19561</td>\n",
       "    </tr>\n",
       "    <tr>\n",
       "      <th>3</th>\n",
       "      <td>04 - 2022</td>\n",
       "      <td>21003</td>\n",
       "    </tr>\n",
       "    <tr>\n",
       "      <th>4</th>\n",
       "      <td>05 - 2022</td>\n",
       "      <td>21856</td>\n",
       "    </tr>\n",
       "    <tr>\n",
       "      <th>5</th>\n",
       "      <td>06 - 2022</td>\n",
       "      <td>26260</td>\n",
       "    </tr>\n",
       "    <tr>\n",
       "      <th>6</th>\n",
       "      <td>07 - 2022</td>\n",
       "      <td>22876</td>\n",
       "    </tr>\n",
       "    <tr>\n",
       "      <th>7</th>\n",
       "      <td>08 - 2022</td>\n",
       "      <td>19901</td>\n",
       "    </tr>\n",
       "  </tbody>\n",
       "</table>\n",
       "</div>"
      ],
      "text/plain": [
       "        Date  Boxes Shipped\n",
       "0  01 - 2022          27535\n",
       "1  02 - 2022          18015\n",
       "2  03 - 2022          19561\n",
       "3  04 - 2022          21003\n",
       "4  05 - 2022          21856\n",
       "5  06 - 2022          26260\n",
       "6  07 - 2022          22876\n",
       "7  08 - 2022          19901"
      ]
     },
     "execution_count": 12,
     "metadata": {},
     "output_type": "execute_result"
    }
   ],
   "source": [
    "# Mensortir \n",
    "df_boxes = df.groupby([\"Date\"])['Boxes Shipped'].sum().reset_index()\n",
    "df_sorted =df_monthly.sort_values(['Date'], ascending=True)\n",
    "df_boxes"
   ]
  },
  {
   "cell_type": "code",
   "execution_count": 13,
   "id": "b2880c39",
   "metadata": {},
   "outputs": [
    {
     "data": {
      "image/png": "[encoded data removed]",
      "text/plain": [
       "<Figure size 1000x600 with 1 Axes>"
      ]
     },
     "metadata": {},
     "output_type": "display_data"
    }
   ],
   "source": [
    "# Visualisasi\n",
    "plt.figure(figsize=(10,6))\n",
    "bars = plt.bar(df_boxes['Date'], df_boxes['Boxes Shipped'])\n",
    "\n",
    "for bar in bars:\n",
    "    height = bar.get_height()\n",
    "    plt.text(\n",
    "        bar.get_x() + bar.get_width() / 2,\n",
    "        height,\n",
    "        f'{int(height)}',\n",
    "        ha='center',\n",
    "        va='bottom'\n",
    "    )\n",
    "\n",
    "plt.title('Boxes Shipped per Month')\n",
    "plt.xlabel('Date')\n",
    "plt.ylabel('Boxes Shipped')\n",
    "plt.tight_layout()\n",
    "plt.show()"
   ]
  },
  {
   "cell_type": "markdown",
   "id": "bcb9342e",
   "metadata": {},
   "source": [
    "Bar chart di atas menampilkan total volume kotak yang dikirimkan setiap bulannya (Boxes Shipped). Insight dari visualisasi di atas:\n",
    "- Sama seperti tren penjualan, bulan Januari dan Juli 2022 adalah bulan dengan jumlah pengiriman produk tertinggi.\n",
    "- Penurunan volume pengiriman juga terjadi signifikan di bulan Februari 2022 dan bulan selanjutnya mengalami pemulihan hingga di bulan Juni 2022.\n",
    "\n",
    "**Jawaban:**\n",
    "\n",
    "Setelah dilakukan visualisasi terjawab pertanyaannya bahwa bulan yang mengalami jumlah pengiriman produk tertinggi yaitu pada bulan Januari 2022 sebesar 27.535k, dan jumlah pengiriman produk tertinggi kedua yaitu pada bulan Juni 2022 sebesar 26.260k.\n",
    "\n",
    "Pada jumlah pengiriman produk (bar chart) dan tren penjualan (line chart) memiliki pola dan fluktuasi yang hampir mirip dari visualisasi, yang kemungkinan dari total penjualan (Amount) dipengaruhi oleh jumlah pengiriman produk. Untuk mengetahui hal ini diperlukan pengujian korelasi pada keduanya, apakah total penjualan benar dipengaruhi oleh jumlah pengiriman produk."
   ]
  },
  {
   "cell_type": "markdown",
   "id": "2118cc98",
   "metadata": {},
   "source": [
    "## 3. Pengujian Total Penjualan dan Jumlah Pengiriman Produk\n",
    "---\n",
    "\n",
    "Pada bagian ini dilakukan pengujian kepada kolom Amount dan Boxes Shipped untuk mengetahui korelasi antara keduanya, apakah teruji sacara statistik atau tidak. Hal ini juga menjawab pertanyaan dari:\n",
    "\n",
    "**Apakah semakin banyak produk yang terjual berarti pendapatannya juga pasti semakin tinggi?**\n",
    "\n",
    "---"
   ]
  },
  {
   "cell_type": "markdown",
   "id": "73a9e0e1",
   "metadata": {},
   "source": [
    "Untuk penentuan metode yang digunakan untuk menguji korelasi, diperlukan penentuan distribusi terlebih dahulu apakah distribusi normal atau tidak normal."
   ]
  },
  {
   "cell_type": "code",
   "execution_count": 14,
   "id": "8a880613",
   "metadata": {},
   "outputs": [
    {
     "name": "stdout",
     "output_type": "stream",
     "text": [
      "Skewness Amount: 0.8922292822202844\n",
      "Skewness Boxes Shipped: 1.1125781896231302\n"
     ]
    }
   ],
   "source": [
    "# Menentukan skewness untuk kolom Amount dan Boxes Shipped\n",
    "print(f\"Skewness Amount: {df['Amount'].skew()}\")\n",
    "print(f\"Skewness Boxes Shipped: {df['Boxes Shipped'].skew()}\")"
   ]
  },
  {
   "cell_type": "markdown",
   "id": "91317803",
   "metadata": {},
   "source": [
    "Dengan nilai skewness di atas, menunjukkan kolom Amount adalah positive skew dan kolom Boxes Shipped adalah Negative Skew yang dimana keduanya yaitu distribusi tidak normal. Maka untuk pengujian korelasi analisisnya menggunakan  metode spearman."
   ]
  },
  {
   "cell_type": "code",
   "execution_count": 15,
   "id": "7ec61569",
   "metadata": {},
   "outputs": [
    {
     "name": "stdout",
     "output_type": "stream",
     "text": [
      "rho-correlation: -0.02, p-value: 0.5146296361139631\n"
     ]
    }
   ],
   "source": [
    "# Analisis korelasi antara Amount dan Boxes Shipped\n",
    "corr_rho, pval_s = stats.spearmanr(df['Amount'], df['Boxes Shipped'])\n",
    "print(f\"rho-correlation: {corr_rho:.2f}, p-value: {pval_s}\")"
   ]
  },
  {
   "cell_type": "markdown",
   "id": "989d8f9f",
   "metadata": {},
   "source": [
    "Berdasarkan hasil perhitungan analisis korelasi menggunakan spearman didapat nilai rho-correlation: -0.02 dengan p-value: 0.514. Nilai rho yang mendekati nilai 0 dan p-value yang tinggi menunjukkan bahwa tidak ada hubungan yang signifikan secara statistik antara total penjualan dan jumlah pengiriman produk.\n",
    "\n",
    "**Jawaban:**\n",
    "\n",
    "Berdasarkan pengujian tersebut, dapat disimpulkan bahwa semakin banyak produk yang terjual tidak berarti pendapatannya juga pasti semakin tinggi. \n",
    "Hal ini kemungkinan besar terjadi karena dipengaruhi oleh harga produk cokelat yang bervariasi. Bisa jadi, karena jumlah produk yang terkirim melibatkan produk berharga rendah, ataupun sebaliknya."
   ]
  },
  {
   "cell_type": "markdown",
   "id": "03932ec7",
   "metadata": {},
   "source": [
    "## 4. Negara dengan Transaksi Penjualan Terbanyak\n",
    "---\n",
    "\n",
    "Setelah kita mengetahui penjualan dari segi waktu, selanjutnya kita mengarah ke penjualan dari segi negara. Pada bagian ini menjawab dari pertanyaan:\n",
    "\n",
    "**Negara mana yang paling banyak melakukan transaksi penjualan cokelat?**\n",
    "\n",
    "---"
   ]
  },
  {
   "cell_type": "code",
   "execution_count": 16,
   "id": "6a10e558",
   "metadata": {},
   "outputs": [
    {
     "data": {
      "text/html": [
       "<div>\n",
       "<style scoped>\n",
       "    .dataframe tbody tr th:only-of-type {\n",
       "        vertical-align: middle;\n",
       "    }\n",
       "\n",
       "    .dataframe tbody tr th {\n",
       "        vertical-align: top;\n",
       "    }\n",
       "\n",
       "    .dataframe thead th {\n",
       "        text-align: right;\n",
       "    }\n",
       "</style>\n",
       "<table border=\"1\" class=\"dataframe\">\n",
       "  <thead>\n",
       "    <tr style=\"text-align: right;\">\n",
       "      <th></th>\n",
       "      <th>Country</th>\n",
       "      <th>Amount</th>\n",
       "    </tr>\n",
       "  </thead>\n",
       "  <tbody>\n",
       "    <tr>\n",
       "      <th>0</th>\n",
       "      <td>Australia</td>\n",
       "      <td>1137367.0</td>\n",
       "    </tr>\n",
       "    <tr>\n",
       "      <th>1</th>\n",
       "      <td>Canada</td>\n",
       "      <td>962899.0</td>\n",
       "    </tr>\n",
       "    <tr>\n",
       "      <th>2</th>\n",
       "      <td>India</td>\n",
       "      <td>1045800.0</td>\n",
       "    </tr>\n",
       "    <tr>\n",
       "      <th>3</th>\n",
       "      <td>New Zealand</td>\n",
       "      <td>950418.0</td>\n",
       "    </tr>\n",
       "    <tr>\n",
       "      <th>4</th>\n",
       "      <td>UK</td>\n",
       "      <td>1051792.0</td>\n",
       "    </tr>\n",
       "    <tr>\n",
       "      <th>5</th>\n",
       "      <td>USA</td>\n",
       "      <td>1035349.0</td>\n",
       "    </tr>\n",
       "  </tbody>\n",
       "</table>\n",
       "</div>"
      ],
      "text/plain": [
       "       Country     Amount\n",
       "0    Australia  1137367.0\n",
       "1       Canada   962899.0\n",
       "2        India  1045800.0\n",
       "3  New Zealand   950418.0\n",
       "4           UK  1051792.0\n",
       "5          USA  1035349.0"
      ]
     },
     "execution_count": 16,
     "metadata": {},
     "output_type": "execute_result"
    }
   ],
   "source": [
    "# Melakukan grouping terlebih dahulu untuk kolom Country dan Amount\n",
    "df_country = df.groupby([\"Country\"])['Amount'].sum().reset_index()\n",
    "df_country"
   ]
  },
  {
   "cell_type": "code",
   "execution_count": 17,
   "id": "450f57af",
   "metadata": {},
   "outputs": [
    {
     "data": {
      "image/png": "[encoded data removed]",
      "text/plain": [
       "<Figure size 1000x600 with 1 Axes>"
      ]
     },
     "metadata": {},
     "output_type": "display_data"
    }
   ],
   "source": [
    "# Membuat tampilan bar chart Jumlah Pendapatan Penjualan Cokelat per Negara\n",
    "plt.figure(figsize=(10, 6))\n",
    "bars = plt.bar(df_country['Country'], df_country['Amount'])\n",
    "\n",
    "for bar in bars:\n",
    "    height = bar.get_height()\n",
    "    plt.text(\n",
    "        bar.get_x() + bar.get_width() / 2,\n",
    "        height,\n",
    "        f'{int(height)}',\n",
    "        ha='center',\n",
    "        va='bottom'\n",
    "    )\n",
    "\n",
    "plt.title('Revenue of Chocolate by Country')\n",
    "plt.xlabel('Country')\n",
    "plt.ylabel('Amount')\n",
    "plt.tight_layout()\n",
    "plt.show()\n"
   ]
  },
  {
   "cell_type": "markdown",
   "id": "c3fe5063",
   "metadata": {},
   "source": [
    "Berdasarkan chart di atas, mendapatkan insight yaitu:\n",
    "- Distribusi pendapatan masih terlihat cukup merata di sebagian besar negara dan tidak ada negara yang tertinggal jauh secara signifikan dimana semua negara menghasilkan pendapatan di atas 950.000.\n",
    "- Negara Australia menjadi negara yang paling tinggi dalam total penjualan, dan New Zealand negara yang paling rendah dalam total penjualan.\n",
    "\n",
    "**Jawaban:**\n",
    "\n",
    "Menjawab dari pertanyaan, berdasarkan visualisasi di atas menunjukkan bahwa negara Australia menjadi negara di urutan pertama yang melakukan transaksi penjualan cokelat terbanyak dengan pendapatan 1.137367M. Disusul oleh negara UK menjadi negara yang melakukan transaksi penjualan cokelat di urutan kedua dengan pendapatan 1.051792M."
   ]
  },
  {
   "cell_type": "markdown",
   "id": "50400770",
   "metadata": {},
   "source": [
    "## 5. Persentase Penjualan Tiap Negara\n",
    "---\n",
    "\n",
    "Setelah mengetahui jumlah pendapatan dari transaksi per negara, selanjutnya ingin mengetahui berapa persentase kontribusi dari masing-masing negara terhadap penjualan produk perusahaan. Pada bagian akan menjawab pertanyaan dari:\n",
    "\n",
    "**Bagaimana persentase penjualan cokelat di tiap negara?**\n",
    "\n",
    "---"
   ]
  },
  {
   "cell_type": "code",
   "execution_count": 18,
   "id": "7e01e68c",
   "metadata": {},
   "outputs": [
    {
     "data": {
      "text/html": [
       "<div>\n",
       "<style scoped>\n",
       "    .dataframe tbody tr th:only-of-type {\n",
       "        vertical-align: middle;\n",
       "    }\n",
       "\n",
       "    .dataframe tbody tr th {\n",
       "        vertical-align: top;\n",
       "    }\n",
       "\n",
       "    .dataframe thead th {\n",
       "        text-align: right;\n",
       "    }\n",
       "</style>\n",
       "<table border=\"1\" class=\"dataframe\">\n",
       "  <thead>\n",
       "    <tr style=\"text-align: right;\">\n",
       "      <th></th>\n",
       "      <th>Country</th>\n",
       "      <th>Boxes Shipped</th>\n",
       "    </tr>\n",
       "  </thead>\n",
       "  <tbody>\n",
       "    <tr>\n",
       "      <th>0</th>\n",
       "      <td>Australia</td>\n",
       "      <td>32647</td>\n",
       "    </tr>\n",
       "    <tr>\n",
       "      <th>1</th>\n",
       "      <td>Canada</td>\n",
       "      <td>31221</td>\n",
       "    </tr>\n",
       "    <tr>\n",
       "      <th>2</th>\n",
       "      <td>India</td>\n",
       "      <td>29470</td>\n",
       "    </tr>\n",
       "    <tr>\n",
       "      <th>3</th>\n",
       "      <td>New Zealand</td>\n",
       "      <td>26580</td>\n",
       "    </tr>\n",
       "    <tr>\n",
       "      <th>4</th>\n",
       "      <td>UK</td>\n",
       "      <td>30265</td>\n",
       "    </tr>\n",
       "    <tr>\n",
       "      <th>5</th>\n",
       "      <td>USA</td>\n",
       "      <td>26824</td>\n",
       "    </tr>\n",
       "  </tbody>\n",
       "</table>\n",
       "</div>"
      ],
      "text/plain": [
       "       Country  Boxes Shipped\n",
       "0    Australia          32647\n",
       "1       Canada          31221\n",
       "2        India          29470\n",
       "3  New Zealand          26580\n",
       "4           UK          30265\n",
       "5          USA          26824"
      ]
     },
     "execution_count": 18,
     "metadata": {},
     "output_type": "execute_result"
    }
   ],
   "source": [
    "# Melakukan grouping terlebih dahulu untuk kolom Country dan Boxes Shipped\n",
    "df_countship = df.groupby(['Country'])['Boxes Shipped'].sum().reset_index()\n",
    "df_countship"
   ]
  },
  {
   "cell_type": "code",
   "execution_count": 19,
   "id": "e798359d",
   "metadata": {},
   "outputs": [
    {
     "data": {
      "image/png": "[encoded data removed]",
      "text/plain": [
       "<Figure size 500x500 with 1 Axes>"
      ]
     },
     "metadata": {},
     "output_type": "display_data"
    }
   ],
   "source": [
    "# Membuat pie chart persentase penjualan cokelat tiap negara\n",
    "plt.figure(figsize=(5, 5))\n",
    "plt.pie(df_countship['Boxes Shipped'], labels=df_countship['Country'], autopct='%1.1f%%', startangle=140)\n",
    "\n",
    "plt.title('Percentage of Chocolate Sales in Each Country')\n",
    "plt.axis('equal')\n",
    "plt.tight_layout()\n",
    "plt.show()\n"
   ]
  },
  {
   "cell_type": "markdown",
   "id": "67b1afff",
   "metadata": {},
   "source": [
    "Berdasarkan pie chart di atas dapat diketahui:\n",
    "- Distribusi persentase penjualan produk terlihat merata dan tidak ada perbedaan yang signifikan di tiap negara.\n",
    "- Pada negara Australia memiliki kontribusi tertinggi dan negara New Zealand memiliki kontribusi terendah pada penjualan produk bagi perusahaan, walaupun selisih antara 2 negara ini tidak jauh (3.4%).\n",
    "\n",
    "**Jawaban:**\n",
    "\n",
    "- Dari hasil visualisasi di atas, didapatkan bahwa negara Australia adalah negara yang memiliki kontribusi tertinggi bagi perusahaan dengan angka persentase tertinggi yaitu sebesar 18,4% dengan jumlah penjualan 32.467.\n",
    "- Disusul oleh negara Canada dengan angka persentase yaitu sebesar 17,6% dengan jumlah penjualan 31.221.\n",
    "- Di posisi ketiga terdapat negara UK, mendapatkan angka persentase yaitu sebesar 17,1% dengan jumlah penjualan 30.265.\n",
    "- Pada negara India, mendapatkan angka persentase yaitu sebesar 16,6% dengan jumlah penjualan 29.470.\n",
    "- Pada negara USA, mendapatkan angka persentase yaitu sebesar 15,2% dengan jumlah penjualan 26.824.\n",
    "- negara New Zealand, mendapatkan angka persentase terendah yaitu sebesar 15% dengan jumlah penjualan 26.580.\n",
    "\n",
    "\n",
    "Dari hasil tersebut menunjukkan bahwa basis pelanggan cukup rata di semua negara dan tidak terlihat perbedaan yang signifikan di tiap negara. Untuk membuktikan hal tersebut terjadi secara kebetulan atau memang terbukti dengan data yang ada, dibutuhkan analisis lebih lanjut yaitu pengujian secara statistik apakah hal ini valid atau hanya kebetulan saja."
   ]
  },
  {
   "cell_type": "markdown",
   "id": "5fc4236c",
   "metadata": {},
   "source": [
    "## 6. Pengujian Statistik Perbedaan Pendapatan dan Penjualan Antar Negara\n",
    "---\n",
    "\n",
    "Perbedaan pendapatan antar negara mungkin terlihat secara visual. Namun, kita menggunakan uji ANOVA untuk memastikan apakah perbedaan ini signifikan secara statistik atau hanya kebetulan. Bagian ini menjawab pertanyaan dari:\n",
    "\n",
    "**Apakah ada perbedaan yang signifikan Pendapatan penjualan cokelat antar negara?**\n",
    "\n",
    "---"
   ]
  },
  {
   "cell_type": "code",
   "execution_count": 20,
   "id": "7408350d",
   "metadata": {},
   "outputs": [
    {
     "data": {
      "text/plain": [
       "array(['UK', 'India', 'Australia', 'New Zealand', 'USA', 'Canada'],\n",
       "      dtype=object)"
      ]
     },
     "execution_count": 20,
     "metadata": {},
     "output_type": "execute_result"
    }
   ],
   "source": [
    "# Mengecek nilai unik dari kolom Country\n",
    "df.Country.unique()"
   ]
  },
  {
   "cell_type": "code",
   "execution_count": 21,
   "id": "a5c82d70",
   "metadata": {},
   "outputs": [],
   "source": [
    "# Mengekstrak data pendapatan untuk setiap kategori\n",
    "UK = df['Amount'][(df['Country']=='UK')]\n",
    "India = df['Amount'][(df['Country']=='India')]\n",
    "Australia = df['Amount'][(df['Country']=='Australia')]\n",
    "New_zealand = df['Amount'][(df['Country']=='New Zealand')]\n",
    "USA = df['Amount'][(df['Country']=='USA')]\n",
    "Canada = df['Amount'][(df['Country']=='Canada')]"
   ]
  },
  {
   "cell_type": "code",
   "execution_count": 22,
   "id": "c0612810",
   "metadata": {},
   "outputs": [
    {
     "name": "stdout",
     "output_type": "stream",
     "text": [
      "Rata-rata pendapatan pada negara UK: 5908.94\n",
      "Rata-rata pendapatan pada negara India: 5683.70\n",
      "Rata-rata pendapatan pada negara Australia: 5548.13\n",
      "Rata-rata pendapatan pada negara New Zealand: 5493.75\n",
      "Rata-rata pendapatan pada negara USA: 5784.07\n",
      "Rata-rata pendapatan pada negara Canada: 5502.28\n"
     ]
    }
   ],
   "source": [
    "# Mencetak rata-rata pendapatan di setiap negara\n",
    "print(f'Rata-rata pendapatan pada negara UK: {UK.mean():.2f}')\n",
    "print(f'Rata-rata pendapatan pada negara India: {India.mean():.2f}')\n",
    "print(f'Rata-rata pendapatan pada negara Australia: {Australia.mean():.2f}')\n",
    "print(f'Rata-rata pendapatan pada negara New Zealand: {New_zealand.mean():.2f}')\n",
    "print(f'Rata-rata pendapatan pada negara USA: {USA.mean():.2f}')\n",
    "print(f'Rata-rata pendapatan pada negara Canada: {Canada.mean():.2f}')"
   ]
  },
  {
   "cell_type": "markdown",
   "id": "0f426a9b",
   "metadata": {},
   "source": [
    "H0: Tidak ada perbedaan pendapatan yang signifikan di antara 6 negara\n",
    "\n",
    "H1: Ada perbedaan pendapatan yang signifikan di antara 6 negara"
   ]
  },
  {
   "cell_type": "code",
   "execution_count": 23,
   "id": "30ea4f13",
   "metadata": {},
   "outputs": [
    {
     "name": "stdout",
     "output_type": "stream",
     "text": [
      "P-value: 0.9115792692956854\n"
     ]
    }
   ],
   "source": [
    "# Penghitungan Uji ANOVA\n",
    "res = stats.f_oneway(UK, India, Australia, New_zealand, USA, Canada)\n",
    "print('P-value:',res.pvalue)"
   ]
  },
  {
   "cell_type": "markdown",
   "id": "3a3b0e38",
   "metadata": {},
   "source": [
    "**Jawaban:**\n",
    "\n",
    "Hasil uji ANOVA mendapatkan nilai p-value sebesar 0,9116 dengan p-value yang jauh lebih besar dari signifikansi standar sebesar 0.05. Berdasarkan hasil tersebut, menunjukkan bahwa tidak ada bukti statistik yang kuat untuk menyimpulkan bahwa ada perbedaan yang signifikan dalam pendapatan dan penjualan di antara keenam negara. Hal ini menunjukkan, pada perbedaan yang terlihat secara kemungkinan disebabkan oleh faktor kebetulan.\n"
   ]
  },
  {
   "cell_type": "markdown",
   "id": "eb0f264f",
   "metadata": {},
   "source": [
    "## 7. Produk Terlaku di Setiap Negara\n",
    "---\n",
    "\n",
    "Setelah mengetahui bagaimana transaksi dan persentase penjualan tiap negara, selanjutnya akan membahas produk apa yang yang paling banyak dibeli di setiap negara. Bagian ini menjawab dari pertanyaan:\n",
    "\n",
    "**Produk cokelat apa yang paling banyak dibeli di setiap negara?**\n",
    "\n",
    "---"
   ]
  },
  {
   "cell_type": "markdown",
   "id": "d2dc36ce",
   "metadata": {},
   "source": [
    "Setelah memahami bagaimana pendapatan terdistribusi antar negara, kini kita akan menggali lebih dalam untuk melihat produk-produk apa yang sebenarnya mendorong penjualan di masing-masing pasar. Visualisasi treemap ini menunjukkan volume pengiriman Boxes Shipped untuk setiap jenis cokelat di setiap negara."
   ]
  },
  {
   "cell_type": "code",
   "execution_count": 24,
   "id": "67b2b698",
   "metadata": {},
   "outputs": [
    {
     "data": {
      "application/vnd.plotly.v1+json": {
       "config": {
        "plotlyServerURL": "https://plot.ly"
       },
       "data": [
        {
         "branchvalues": "total",
         "customdata": {
          "bdata": "NaBNA9pIcEBnSMzbGZpxQOLh4eHhsXBAV3AdvePnbkBovC3+mCxlQIhA3YhnvlhAMuzWl+WzZEDGdBbTWXRrQJ1DGPV3+GlAKVyPwvVIY0DffRPiCahxQO9DthQr/GlAtFiIPcscdUCsOjJ6AR1zQGCZxUEofnJATncnd9xGbECvz7s+7zpoQH7D2jesdWlAn6wl/n0oa0C66KKLLv5jQGZkMh4RLXNAWKs5iEeFcED0ziqPgfFwQAOd74Vt42tAmQjgrp29a0A3+6wtCNFqQGCIFaXxcWtAUdBjJjYca0A+BudjcL5uQMTp4x95hmtA4U9hA/M2bUDSJ33SJ31iQBhWP9MR22pAKt6zlM5QZ0BO9w3a38trQFszzj8+cGhAAAAAAABIckDYpULC8DR5QDizKGKSyGlAQ+BbVP7TckBmG844zEtuQIFuzNNHq1RACYY/dDPVb0CKjp9HYzRuQCG65ClO9HBAXHXyqGJja0Dn+6nx0oVoQLJtZj3dg2tAIjFvZ0gEeUA4h5GqefdyQB20HCCfA3dA4U3EpADkdkD7nES4MxFxQFVVVVVV5WpArn7QUYEPbEDKJptssslfQI8cnvTalnBAFTe/YqbZYkDWksV7W21bQBZf8RVfz2xACY5dGgUCaUAJttQkG9ttQASLxufwE3NAV6RuRerWc0CRco7fP/p7QFZij68PImhArT+D30SfZkAGyCzcT3NnQPm39KrNlWZA+ynkzG9Lc0CXjJGmKNlmQJzuu7N9bHBAJUmSJAk3cUAL+BgBTO9uQLjkjIMgDWdA0DgLsPmsbEByHMdxHGtwQBrwrP889HZAzGIjysdcckDdIgSUHo1yQEh7zK4dAXNAKGCcgY39bUAQ/MAP/HBxQIQrFXKR8XJAi+Z0cp6mbECV/nb0yP94QOo5MmSffm5AG5P55uFEdEB5gnbFIt5yQOQE4W7sA3VAGIZhGIatc0DWijSC7+lwQNcduNuo2mlA+O1xx7YrcUBRLsudw65pQAA+CB2U/HJA6BdtmZuiZEDRkNlXgAFpQO4KlfveJWZAGvm2691rYEBk893wozpwQAZYKF11YGhAdaV3BhykcUAznyfvcFxpQDOIF8kqPGZAvf7iZBC5YkCAheCQlvFxQJ/ciY4J02xAZmlalqYFYkDhDeK5v49mQGnzPsUlJW5ASYyc/MskckCIgaaD70lxQCiJ7lASXWxAf7prf7qLcECM84Pdz6xrQP3dYnsEzWdAhPTiEIVxbkDWxW00gJdgQLhHuEe473NANYPaU3q4YkB333Hxsi1nQO2WA6ouAmZAssi6XMgnakCc5S6zUixxQNgeclkxMG1A6rL9Uwb5ZkDeaOr82mNtQDA5gHVtN3ZA6bnVcNoKcUB4eHh4+NRyQIpWmzE9fWVAYDRQpsLcbUAD4mEi655vQLZLrysbIXBAiRRfbBdwbkAjfYFgkM1sQIRxvBLnD3JAOEe6r6Cgb0A=",
          "dtype": "f8",
          "shape": "139, 1"
         },
         "domain": {
          "x": [
           0,
           1
          ],
          "y": [
           0,
           1
          ]
         },
         "hovertemplate": "labels=%{label}<br>Boxes Shipped_sum=%{value}<br>parent=%{parent}<br>id=%{id}<br>Boxes Shipped=%{color}<extra></extra>",
         "ids": [
          "all/UK/Mint Chip Choco",
          "all/India/85% Dark Bars",
          "all/India/Peanut Butter Cubes",
          "all/Australia/Peanut Butter Cubes",
          "all/UK/Peanut Butter Cubes",
          "all/India/Smooth Sliky Salty",
          "all/UK/99% Dark & Pure",
          "all/Australia/After Nines",
          "all/New Zealand/50% Dark Bites",
          "all/Australia/99% Dark & Pure",
          "all/UK/Smooth Sliky Salty",
          "all/USA/Orange Choco",
          "all/Canada/Eclairs",
          "all/New Zealand/Drinking Coco",
          "all/New Zealand/Peanut Butter Cubes",
          "all/Australia/Organic Choco Syrup",
          "all/Canada/Organic Choco Syrup",
          "all/USA/Smooth Sliky Salty",
          "all/Canada/Milk Bars",
          "all/UK/85% Dark Bars",
          "all/Australia/Eclairs",
          "all/USA/Spicy Special Slims",
          "all/USA/After Nines",
          "all/UK/Drinking Coco",
          "all/India/Fruit & Nut Bars",
          "all/Canada/Spicy Special Slims",
          "all/USA/Eclairs",
          "all/New Zealand/White Choc",
          "all/New Zealand/Manuka Honey Choco",
          "all/New Zealand/85% Dark Bars",
          "all/Australia/Manuka Honey Choco",
          "all/UK/Almond Choco",
          "all/Canada/After Nines",
          "all/USA/Manuka Honey Choco",
          "all/UK/50% Dark Bites",
          "all/New Zealand/After Nines",
          "all/Australia/85% Dark Bars",
          "all/India/Manuka Honey Choco",
          "all/USA/Raspberry Choco",
          "all/Canada/Choco Coated Almonds",
          "all/India/Spicy Special Slims",
          "all/Canada/Almond Choco",
          "all/USA/Peanut Butter Cubes",
          "all/USA/50% Dark Bites",
          "all/Australia/Milk Bars",
          "all/India/Eclairs",
          "all/Australia/Fruit & Nut Bars",
          "all/Australia/Drinking Coco",
          "all/Canada/Drinking Coco",
          "all/New Zealand/Spicy Special Slims",
          "all/Canada/99% Dark & Pure",
          "all/Australia/50% Dark Bites",
          "all/Canada/Baker's Choco Chips",
          "all/India/Almond Choco",
          "all/India/99% Dark & Pure",
          "all/Australia/Caramel Stuffed Bars",
          "all/India/50% Dark Bites",
          "all/India/Organic Choco Syrup",
          "all/USA/Choco Coated Almonds",
          "all/UK/Organic Choco Syrup",
          "all/USA/White Choc",
          "all/New Zealand/Mint Chip Choco",
          "all/Australia/70% Dark Bites",
          "all/Australia/Spicy Special Slims",
          "all/Canada/Caramel Stuffed Bars",
          "all/UK/Eclairs",
          "all/India/Raspberry Choco",
          "all/Canada/50% Dark Bites",
          "all/New Zealand/Orange Choco",
          "all/UK/Fruit & Nut Bars",
          "all/Australia/Raspberry Choco",
          "all/USA/Fruit & Nut Bars",
          "all/USA/99% Dark & Pure",
          "all/New Zealand/70% Dark Bites",
          "all/UK/Spicy Special Slims",
          "all/USA/Almond Choco",
          "all/India/Orange Choco",
          "all/Canada/70% Dark Bites",
          "all/India/Caramel Stuffed Bars",
          "all/Australia/Orange Choco",
          "all/UK/Milk Bars",
          "all/New Zealand/Fruit & Nut Bars",
          "all/New Zealand/Choco Coated Almonds",
          "all/New Zealand/Smooth Sliky Salty",
          "all/Australia/Baker's Choco Chips",
          "all/India/Baker's Choco Chips",
          "all/UK/After Nines",
          "all/Canada/Smooth Sliky Salty",
          "all/USA/85% Dark Bars",
          "all/New Zealand/Caramel Stuffed Bars",
          "all/UK/Caramel Stuffed Bars",
          "all/New Zealand/Milk Bars",
          "all/Australia/White Choc",
          "all/India/After Nines",
          "all/UK/White Choc",
          "all/UK/Baker's Choco Chips",
          "all/UK/Choco Coated Almonds",
          "all/Canada/Peanut Butter Cubes",
          "all/India/Drinking Coco",
          "all/USA/70% Dark Bites",
          "all/New Zealand/Raspberry Choco",
          "all/UK/Orange Choco",
          "all/Canada/85% Dark Bars",
          "all/Australia/Mint Chip Choco",
          "all/Australia/Choco Coated Almonds",
          "all/New Zealand/Baker's Choco Chips",
          "all/UK/Raspberry Choco",
          "all/UK/70% Dark Bites",
          "all/USA/Milk Bars",
          "all/Canada/White Choc",
          "all/New Zealand/Organic Choco Syrup",
          "all/India/70% Dark Bites",
          "all/Australia/Almond Choco",
          "all/UK/Manuka Honey Choco",
          "all/Australia/Smooth Sliky Salty",
          "all/India/Milk Bars",
          "all/Canada/Raspberry Choco",
          "all/India/Mint Chip Choco",
          "all/New Zealand/Almond Choco",
          "all/USA/Caramel Stuffed Bars",
          "all/USA/Drinking Coco",
          "all/USA/Baker's Choco Chips",
          "all/Canada/Fruit & Nut Bars",
          "all/USA/Organic Choco Syrup",
          "all/Canada/Manuka Honey Choco",
          "all/USA/Mint Chip Choco",
          "all/New Zealand/Eclairs",
          "all/India/Choco Coated Almonds",
          "all/Canada/Orange Choco",
          "all/India/White Choc",
          "all/Canada/Mint Chip Choco",
          "all/New Zealand/99% Dark & Pure",
          "all/UK",
          "all/India",
          "all/Australia",
          "all/New Zealand",
          "all/USA",
          "all/Canada",
          "all"
         ],
         "labels": [
          "Mint Chip Choco",
          "85% Dark Bars",
          "Peanut Butter Cubes",
          "Peanut Butter Cubes",
          "Peanut Butter Cubes",
          "Smooth Sliky Salty",
          "99% Dark & Pure",
          "After Nines",
          "50% Dark Bites",
          "99% Dark & Pure",
          "Smooth Sliky Salty",
          "Orange Choco",
          "Eclairs",
          "Drinking Coco",
          "Peanut Butter Cubes",
          "Organic Choco Syrup",
          "Organic Choco Syrup",
          "Smooth Sliky Salty",
          "Milk Bars",
          "85% Dark Bars",
          "Eclairs",
          "Spicy Special Slims",
          "After Nines",
          "Drinking Coco",
          "Fruit & Nut Bars",
          "Spicy Special Slims",
          "Eclairs",
          "White Choc",
          "Manuka Honey Choco",
          "85% Dark Bars",
          "Manuka Honey Choco",
          "Almond Choco",
          "After Nines",
          "Manuka Honey Choco",
          "50% Dark Bites",
          "After Nines",
          "85% Dark Bars",
          "Manuka Honey Choco",
          "Raspberry Choco",
          "Choco Coated Almonds",
          "Spicy Special Slims",
          "Almond Choco",
          "Peanut Butter Cubes",
          "50% Dark Bites",
          "Milk Bars",
          "Eclairs",
          "Fruit & Nut Bars",
          "Drinking Coco",
          "Drinking Coco",
          "Spicy Special Slims",
          "99% Dark & Pure",
          "50% Dark Bites",
          "Baker's Choco Chips",
          "Almond Choco",
          "99% Dark & Pure",
          "Caramel Stuffed Bars",
          "50% Dark Bites",
          "Organic Choco Syrup",
          "Choco Coated Almonds",
          "Organic Choco Syrup",
          "White Choc",
          "Mint Chip Choco",
          "70% Dark Bites",
          "Spicy Special Slims",
          "Caramel Stuffed Bars",
          "Eclairs",
          "Raspberry Choco",
          "50% Dark Bites",
          "Orange Choco",
          "Fruit & Nut Bars",
          "Raspberry Choco",
          "Fruit & Nut Bars",
          "99% Dark & Pure",
          "70% Dark Bites",
          "Spicy Special Slims",
          "Almond Choco",
          "Orange Choco",
          "70% Dark Bites",
          "Caramel Stuffed Bars",
          "Orange Choco",
          "Milk Bars",
          "Fruit & Nut Bars",
          "Choco Coated Almonds",
          "Smooth Sliky Salty",
          "Baker's Choco Chips",
          "Baker's Choco Chips",
          "After Nines",
          "Smooth Sliky Salty",
          "85% Dark Bars",
          "Caramel Stuffed Bars",
          "Caramel Stuffed Bars",
          "Milk Bars",
          "White Choc",
          "After Nines",
          "White Choc",
          "Baker's Choco Chips",
          "Choco Coated Almonds",
          "Peanut Butter Cubes",
          "Drinking Coco",
          "70% Dark Bites",
          "Raspberry Choco",
          "Orange Choco",
          "85% Dark Bars",
          "Mint Chip Choco",
          "Choco Coated Almonds",
          "Baker's Choco Chips",
          "Raspberry Choco",
          "70% Dark Bites",
          "Milk Bars",
          "White Choc",
          "Organic Choco Syrup",
          "70% Dark Bites",
          "Almond Choco",
          "Manuka Honey Choco",
          "Smooth Sliky Salty",
          "Milk Bars",
          "Raspberry Choco",
          "Mint Chip Choco",
          "Almond Choco",
          "Caramel Stuffed Bars",
          "Drinking Coco",
          "Baker's Choco Chips",
          "Fruit & Nut Bars",
          "Organic Choco Syrup",
          "Manuka Honey Choco",
          "Mint Chip Choco",
          "Eclairs",
          "Choco Coated Almonds",
          "Orange Choco",
          "White Choc",
          "Mint Chip Choco",
          "99% Dark & Pure",
          "UK",
          "India",
          "Australia",
          "New Zealand",
          "USA",
          "Canada",
          "all"
         ],
         "marker": {
          "coloraxis": "coloraxis",
          "colors": {
           "bdata": "NaBNA9pIcEBnSMzbGZpxQOLh4eHhsXBAV3AdvePnbkBovC3+mCxlQIhA3YhnvlhAMuzWl+WzZEDGdBbTWXRrQJ1DGPV3+GlAKVyPwvVIY0DffRPiCahxQO9DthQr/GlAtFiIPcscdUCsOjJ6AR1zQGCZxUEofnJATncnd9xGbECvz7s+7zpoQH7D2jesdWlAn6wl/n0oa0C66KKLLv5jQGZkMh4RLXNAWKs5iEeFcED0ziqPgfFwQAOd74Vt42tAmQjgrp29a0A3+6wtCNFqQGCIFaXxcWtAUdBjJjYca0A+BudjcL5uQMTp4x95hmtA4U9hA/M2bUDSJ33SJ31iQBhWP9MR22pAKt6zlM5QZ0BO9w3a38trQFszzj8+cGhAAAAAAABIckDYpULC8DR5QDizKGKSyGlAQ+BbVP7TckBmG844zEtuQIFuzNNHq1RACYY/dDPVb0CKjp9HYzRuQCG65ClO9HBAXHXyqGJja0Dn+6nx0oVoQLJtZj3dg2tAIjFvZ0gEeUA4h5GqefdyQB20HCCfA3dA4U3EpADkdkD7nES4MxFxQFVVVVVV5WpArn7QUYEPbEDKJptssslfQI8cnvTalnBAFTe/YqbZYkDWksV7W21bQBZf8RVfz2xACY5dGgUCaUAJttQkG9ttQASLxufwE3NAV6RuRerWc0CRco7fP/p7QFZij68PImhArT+D30SfZkAGyCzcT3NnQPm39KrNlWZA+ynkzG9Lc0CXjJGmKNlmQJzuu7N9bHBAJUmSJAk3cUAL+BgBTO9uQLjkjIMgDWdA0DgLsPmsbEByHMdxHGtwQBrwrP889HZAzGIjysdcckDdIgSUHo1yQEh7zK4dAXNAKGCcgY39bUAQ/MAP/HBxQIQrFXKR8XJAi+Z0cp6mbECV/nb0yP94QOo5MmSffm5AG5P55uFEdEB5gnbFIt5yQOQE4W7sA3VAGIZhGIatc0DWijSC7+lwQNcduNuo2mlA+O1xx7YrcUBRLsudw65pQAA+CB2U/HJA6BdtmZuiZEDRkNlXgAFpQO4KlfveJWZAGvm2691rYEBk893wozpwQAZYKF11YGhAdaV3BhykcUAznyfvcFxpQDOIF8kqPGZAvf7iZBC5YkCAheCQlvFxQJ/ciY4J02xAZmlalqYFYkDhDeK5v49mQGnzPsUlJW5ASYyc/MskckCIgaaD70lxQCiJ7lASXWxAf7prf7qLcECM84Pdz6xrQP3dYnsEzWdAhPTiEIVxbkDWxW00gJdgQLhHuEe473NANYPaU3q4YkB333Hxsi1nQO2WA6ouAmZAssi6XMgnakCc5S6zUixxQNgeclkxMG1A6rL9Uwb5ZkDeaOr82mNtQDA5gHVtN3ZA6bnVcNoKcUB4eHh4+NRyQIpWmzE9fWVAYDRQpsLcbUAD4mEi655vQLZLrysbIXBAiRRfbBdwbkAjfYFgkM1sQIRxvBLnD3JAOEe6r6Cgb0A=",
           "dtype": "f8"
          }
         },
         "name": "",
         "parents": [
          "all/UK",
          "all/India",
          "all/India",
          "all/Australia",
          "all/UK",
          "all/India",
          "all/UK",
          "all/Australia",
          "all/New Zealand",
          "all/Australia",
          "all/UK",
          "all/USA",
          "all/Canada",
          "all/New Zealand",
          "all/New Zealand",
          "all/Australia",
          "all/Canada",
          "all/USA",
          "all/Canada",
          "all/UK",
          "all/Australia",
          "all/USA",
          "all/USA",
          "all/UK",
          "all/India",
          "all/Canada",
          "all/USA",
          "all/New Zealand",
          "all/New Zealand",
          "all/New Zealand",
          "all/Australia",
          "all/UK",
          "all/Canada",
          "all/USA",
          "all/UK",
          "all/New Zealand",
          "all/Australia",
          "all/India",
          "all/USA",
          "all/Canada",
          "all/India",
          "all/Canada",
          "all/USA",
          "all/USA",
          "all/Australia",
          "all/India",
          "all/Australia",
          "all/Australia",
          "all/Canada",
          "all/New Zealand",
          "all/Canada",
          "all/Australia",
          "all/Canada",
          "all/India",
          "all/India",
          "all/Australia",
          "all/India",
          "all/India",
          "all/USA",
          "all/UK",
          "all/USA",
          "all/New Zealand",
          "all/Australia",
          "all/Australia",
          "all/Canada",
          "all/UK",
          "all/India",
          "all/Canada",
          "all/New Zealand",
          "all/UK",
          "all/Australia",
          "all/USA",
          "all/USA",
          "all/New Zealand",
          "all/UK",
          "all/USA",
          "all/India",
          "all/Canada",
          "all/India",
          "all/Australia",
          "all/UK",
          "all/New Zealand",
          "all/New Zealand",
          "all/New Zealand",
          "all/Australia",
          "all/India",
          "all/UK",
          "all/Canada",
          "all/USA",
          "all/New Zealand",
          "all/UK",
          "all/New Zealand",
          "all/Australia",
          "all/India",
          "all/UK",
          "all/UK",
          "all/UK",
          "all/Canada",
          "all/India",
          "all/USA",
          "all/New Zealand",
          "all/UK",
          "all/Canada",
          "all/Australia",
          "all/Australia",
          "all/New Zealand",
          "all/UK",
          "all/UK",
          "all/USA",
          "all/Canada",
          "all/New Zealand",
          "all/India",
          "all/Australia",
          "all/UK",
          "all/Australia",
          "all/India",
          "all/Canada",
          "all/India",
          "all/New Zealand",
          "all/USA",
          "all/USA",
          "all/USA",
          "all/Canada",
          "all/USA",
          "all/Canada",
          "all/USA",
          "all/New Zealand",
          "all/India",
          "all/Canada",
          "all/India",
          "all/Canada",
          "all/New Zealand",
          "all",
          "all",
          "all",
          "all",
          "all",
          "all",
          ""
         ],
         "root": {
          "color": "lightgrey"
         },
         "type": "treemap",
         "values": {
          "bdata": "AAAAAABgk0AAAAAAAMCYQAAAAAAAlJZAAAAAAAD8kEAAAAAAAMSTQAAAAAAAkIZAAAAAAADQlUAAAAAAAICMQAAAAAAAWI1AAAAAAAAYlUAAAAAAACSdQAAAAAAAJJhAAAAAAABqoEAAAAAAAPSSQAAAAAAAOJxAAAAAAAB0mkAAAAAAAIiUQAAAAAAAoJRAAAAAAADoiUAAAAAAAACGQAAAAAAAzJRAAAAAAACklUAAAAAAADicQAAAAAAA7JdAAAAAAADIjUAAAAAAAOyZQAAAAAAAZJJAAAAAAADMk0AAAAAAABCXQAAAAAAAWJtAAAAAAAB8lkAAAAAAAPCOQAAAAAAAGJVAAAAAAAD4kUAAAAAAAFyeQAAAAAAAkJRAAAAAAADAkkAAAAAAAPiOQAAAAAAAZJdAAAAAAAAoo0AAAAAAANSfQAAAAAAAYIFAAAAAAADkkkAAAAAAADScQAAAAAAAdJxAAAAAAAAEn0AAAAAAAECPQAAAAAAAFJxAAAAAAADwnkAAAAAAACiLQAAAAAAATJZAAAAAAADcqEAAAAAAAMiOQAAAAAAAQJRAAAAAAAC8lkAAAAAAAJCCQAAAAAAAVJNAAAAAAAAIjEAAAAAAANB0QAAAAAAAgJFAAAAAAADQkkAAAAAAANKjQAAAAAAAbqBAAAAAAAAEoEAAAAAAAJCfQAAAAAAA5JNAAAAAAACgiEAAAAAAAHCFQAAAAAAAqItAAAAAAACIkUAAAAAAACyUQAAAAAAAGqBAAAAAAAAAnEAAAAAAACiNQAAAAAAAaIVAAAAAAAAckUAAAAAAAACSQAAAAAAAqJhAAAAAAACMmUAAAAAAABSbQAAAAAAAlqFAAAAAAAAkkEAAAAAAAHB8QAAAAAAAaJRAAAAAAACkk0AAAAAAAMSTQAAAAAAAOI9AAAAAAAC+oUAAAAAAABSZQAAAAAAAoJNAAAAAAAAQoUAAAAAAANyUQAAAAAAAmJdAAAAAAABInUAAAAAAACSeQAAAAAAAQqBAAAAAAABokkAAAAAAAFCXQAAAAAAANJFAAAAAAAC4g0AAAAAAAAiTQAAAAAAA0IVAAAAAAACwjUAAAAAAANyQQAAAAAAAcIZAAAAAAABgiUAAAAAAABiVQAAAAAAArJNAAAAAAAAEkEAAAAAAAOiFQAAAAAAAgJ5AAAAAAACcl0AAAAAAAPygQAAAAAAAyJJAAAAAAAC4lEAAAAAAALSQQAAAAAAAWI5AAAAAAACwl0AAAAAAAIiDQAAAAAAAEJBAAAAAAAA4kEAAAAAAALCCQAAAAAAAhJhAAAAAAAAoiEAAAAAAAMyXQAAAAAAAWIdAAAAAAADQi0AAAAAAAMCUQAAAAAAA3JpAAAAAAAB0mUAAAAAAAACRQAAAAAAAGIZAAAAAAECO3UAAAAAAgMfcQAAAAADA4d9AAAAAAAD12UAAAAAAADLaQAAAAABAfd5AAAAAAHibBUE=",
          "dtype": "f8"
         }
        }
       ],
       "layout": {
        "coloraxis": {
         "colorbar": {
          "title": {
           "text": "Boxes Shipped"
          }
         },
         "colorscale": [
          [
           0,
           "#0d0887"
          ],
          [
           0.1111111111111111,
           "#46039f"
          ],
          [
           0.2222222222222222,
           "#7201a8"
          ],
          [
           0.3333333333333333,
           "#9c179e"
          ],
          [
           0.4444444444444444,
           "#bd3786"
          ],
          [
           0.5555555555555556,
           "#d8576b"
          ],
          [
           0.6666666666666666,
           "#ed7953"
          ],
          [
           0.7777777777777778,
           "#fb9f3a"
          ],
          [
           0.8888888888888888,
           "#fdca26"
          ],
          [
           1,
           "#f0f921"
          ]
         ]
        },
        "legend": {
         "tracegroupgap": 0
        },
        "margin": {
         "b": 25,
         "l": 25,
         "r": 25,
         "t": 100
        },
        "template": {
         "data": {
          "bar": [
           {
            "error_x": {
             "color": "#2a3f5f"
            },
            "error_y": {
             "color": "#2a3f5f"
            },
            "marker": {
             "line": {
              "color": "#E5ECF6",
              "width": 0.5
             },
             "pattern": {
              "fillmode": "overlay",
              "size": 10,
              "solidity": 0.2
             }
            },
            "type": "bar"
           }
          ],
          "barpolar": [
           {
            "marker": {
             "line": {
              "color": "#E5ECF6",
              "width": 0.5
             },
             "pattern": {
              "fillmode": "overlay",
              "size": 10,
              "solidity": 0.2
             }
            },
            "type": "barpolar"
           }
          ],
          "carpet": [
           {
            "aaxis": {
             "endlinecolor": "#2a3f5f",
             "gridcolor": "white",
             "linecolor": "white",
             "minorgridcolor": "white",
             "startlinecolor": "#2a3f5f"
            },
            "baxis": {
             "endlinecolor": "#2a3f5f",
             "gridcolor": "white",
             "linecolor": "white",
             "minorgridcolor": "white",
             "startlinecolor": "#2a3f5f"
            },
            "type": "carpet"
           }
          ],
          "choropleth": [
           {
            "colorbar": {
             "outlinewidth": 0,
             "ticks": ""
            },
            "type": "choropleth"
           }
          ],
          "contour": [
           {
            "colorbar": {
             "outlinewidth": 0,
             "ticks": ""
            },
            "colorscale": [
             [
              0,
              "#0d0887"
             ],
             [
              0.1111111111111111,
              "#46039f"
             ],
             [
              0.2222222222222222,
              "#7201a8"
             ],
             [
              0.3333333333333333,
              "#9c179e"
             ],
             [
              0.4444444444444444,
              "#bd3786"
             ],
             [
              0.5555555555555556,
              "#d8576b"
             ],
             [
              0.6666666666666666,
              "#ed7953"
             ],
             [
              0.7777777777777778,
              "#fb9f3a"
             ],
             [
              0.8888888888888888,
              "#fdca26"
             ],
             [
              1,
              "#f0f921"
             ]
            ],
            "type": "contour"
           }
          ],
          "contourcarpet": [
           {
            "colorbar": {
             "outlinewidth": 0,
             "ticks": ""
            },
            "type": "contourcarpet"
           }
          ],
          "heatmap": [
           {
            "colorbar": {
             "outlinewidth": 0,
             "ticks": ""
            },
            "colorscale": [
             [
              0,
              "#0d0887"
             ],
             [
              0.1111111111111111,
              "#46039f"
             ],
             [
              0.2222222222222222,
              "#7201a8"
             ],
             [
              0.3333333333333333,
              "#9c179e"
             ],
             [
              0.4444444444444444,
              "#bd3786"
             ],
             [
              0.5555555555555556,
              "#d8576b"
             ],
             [
              0.6666666666666666,
              "#ed7953"
             ],
             [
              0.7777777777777778,
              "#fb9f3a"
             ],
             [
              0.8888888888888888,
              "#fdca26"
             ],
             [
              1,
              "#f0f921"
             ]
            ],
            "type": "heatmap"
           }
          ],
          "histogram": [
           {
            "marker": {
             "pattern": {
              "fillmode": "overlay",
              "size": 10,
              "solidity": 0.2
             }
            },
            "type": "histogram"
           }
          ],
          "histogram2d": [
           {
            "colorbar": {
             "outlinewidth": 0,
             "ticks": ""
            },
            "colorscale": [
             [
              0,
              "#0d0887"
             ],
             [
              0.1111111111111111,
              "#46039f"
             ],
             [
              0.2222222222222222,
              "#7201a8"
             ],
             [
              0.3333333333333333,
              "#9c179e"
             ],
             [
              0.4444444444444444,
              "#bd3786"
             ],
             [
              0.5555555555555556,
              "#d8576b"
             ],
             [
              0.6666666666666666,
              "#ed7953"
             ],
             [
              0.7777777777777778,
              "#fb9f3a"
             ],
             [
              0.8888888888888888,
              "#fdca26"
             ],
             [
              1,
              "#f0f921"
             ]
            ],
            "type": "histogram2d"
           }
          ],
          "histogram2dcontour": [
           {
            "colorbar": {
             "outlinewidth": 0,
             "ticks": ""
            },
            "colorscale": [
             [
              0,
              "#0d0887"
             ],
             [
              0.1111111111111111,
              "#46039f"
             ],
             [
              0.2222222222222222,
              "#7201a8"
             ],
             [
              0.3333333333333333,
              "#9c179e"
             ],
             [
              0.4444444444444444,
              "#bd3786"
             ],
             [
              0.5555555555555556,
              "#d8576b"
             ],
             [
              0.6666666666666666,
              "#ed7953"
             ],
             [
              0.7777777777777778,
              "#fb9f3a"
             ],
             [
              0.8888888888888888,
              "#fdca26"
             ],
             [
              1,
              "#f0f921"
             ]
            ],
            "type": "histogram2dcontour"
           }
          ],
          "mesh3d": [
           {
            "colorbar": {
             "outlinewidth": 0,
             "ticks": ""
            },
            "type": "mesh3d"
           }
          ],
          "parcoords": [
           {
            "line": {
             "colorbar": {
              "outlinewidth": 0,
              "ticks": ""
             }
            },
            "type": "parcoords"
           }
          ],
          "pie": [
           {
            "automargin": true,
            "type": "pie"
           }
          ],
          "scatter": [
           {
            "fillpattern": {
             "fillmode": "overlay",
             "size": 10,
             "solidity": 0.2
            },
            "type": "scatter"
           }
          ],
          "scatter3d": [
           {
            "line": {
             "colorbar": {
              "outlinewidth": 0,
              "ticks": ""
             }
            },
            "marker": {
             "colorbar": {
              "outlinewidth": 0,
              "ticks": ""
             }
            },
            "type": "scatter3d"
           }
          ],
          "scattercarpet": [
           {
            "marker": {
             "colorbar": {
              "outlinewidth": 0,
              "ticks": ""
             }
            },
            "type": "scattercarpet"
           }
          ],
          "scattergeo": [
           {
            "marker": {
             "colorbar": {
              "outlinewidth": 0,
              "ticks": ""
             }
            },
            "type": "scattergeo"
           }
          ],
          "scattergl": [
           {
            "marker": {
             "colorbar": {
              "outlinewidth": 0,
              "ticks": ""
             }
            },
            "type": "scattergl"
           }
          ],
          "scattermap": [
           {
            "marker": {
             "colorbar": {
              "outlinewidth": 0,
              "ticks": ""
             }
            },
            "type": "scattermap"
           }
          ],
          "scattermapbox": [
           {
            "marker": {
             "colorbar": {
              "outlinewidth": 0,
              "ticks": ""
             }
            },
            "type": "scattermapbox"
           }
          ],
          "scatterpolar": [
           {
            "marker": {
             "colorbar": {
              "outlinewidth": 0,
              "ticks": ""
             }
            },
            "type": "scatterpolar"
           }
          ],
          "scatterpolargl": [
           {
            "marker": {
             "colorbar": {
              "outlinewidth": 0,
              "ticks": ""
             }
            },
            "type": "scatterpolargl"
           }
          ],
          "scatterternary": [
           {
            "marker": {
             "colorbar": {
              "outlinewidth": 0,
              "ticks": ""
             }
            },
            "type": "scatterternary"
           }
          ],
          "surface": [
           {
            "colorbar": {
             "outlinewidth": 0,
             "ticks": ""
            },
            "colorscale": [
             [
              0,
              "#0d0887"
             ],
             [
              0.1111111111111111,
              "#46039f"
             ],
             [
              0.2222222222222222,
              "#7201a8"
             ],
             [
              0.3333333333333333,
              "#9c179e"
             ],
             [
              0.4444444444444444,
              "#bd3786"
             ],
             [
              0.5555555555555556,
              "#d8576b"
             ],
             [
              0.6666666666666666,
              "#ed7953"
             ],
             [
              0.7777777777777778,
              "#fb9f3a"
             ],
             [
              0.8888888888888888,
              "#fdca26"
             ],
             [
              1,
              "#f0f921"
             ]
            ],
            "type": "surface"
           }
          ],
          "table": [
           {
            "cells": {
             "fill": {
              "color": "#EBF0F8"
             },
             "line": {
              "color": "white"
             }
            },
            "header": {
             "fill": {
              "color": "#C8D4E3"
             },
             "line": {
              "color": "white"
             }
            },
            "type": "table"
           }
          ]
         },
         "layout": {
          "annotationdefaults": {
           "arrowcolor": "#2a3f5f",
           "arrowhead": 0,
           "arrowwidth": 1
          },
          "autotypenumbers": "strict",
          "coloraxis": {
           "colorbar": {
            "outlinewidth": 0,
            "ticks": ""
           }
          },
          "colorscale": {
           "diverging": [
            [
             0,
             "#8e0152"
            ],
            [
             0.1,
             "#c51b7d"
            ],
            [
             0.2,
             "#de77ae"
            ],
            [
             0.3,
             "#f1b6da"
            ],
            [
             0.4,
             "#fde0ef"
            ],
            [
             0.5,
             "#f7f7f7"
            ],
            [
             0.6,
             "#e6f5d0"
            ],
            [
             0.7,
             "#b8e186"
            ],
            [
             0.8,
             "#7fbc41"
            ],
            [
             0.9,
             "#4d9221"
            ],
            [
             1,
             "#276419"
            ]
           ],
           "sequential": [
            [
             0,
             "#0d0887"
            ],
            [
             0.1111111111111111,
             "#46039f"
            ],
            [
             0.2222222222222222,
             "#7201a8"
            ],
            [
             0.3333333333333333,
             "#9c179e"
            ],
            [
             0.4444444444444444,
             "#bd3786"
            ],
            [
             0.5555555555555556,
             "#d8576b"
            ],
            [
             0.6666666666666666,
             "#ed7953"
            ],
            [
             0.7777777777777778,
             "#fb9f3a"
            ],
            [
             0.8888888888888888,
             "#fdca26"
            ],
            [
             1,
             "#f0f921"
            ]
           ],
           "sequentialminus": [
            [
             0,
             "#0d0887"
            ],
            [
             0.1111111111111111,
             "#46039f"
            ],
            [
             0.2222222222222222,
             "#7201a8"
            ],
            [
             0.3333333333333333,
             "#9c179e"
            ],
            [
             0.4444444444444444,
             "#bd3786"
            ],
            [
             0.5555555555555556,
             "#d8576b"
            ],
            [
             0.6666666666666666,
             "#ed7953"
            ],
            [
             0.7777777777777778,
             "#fb9f3a"
            ],
            [
             0.8888888888888888,
             "#fdca26"
            ],
            [
             1,
             "#f0f921"
            ]
           ]
          },
          "colorway": [
           "#636efa",
           "#EF553B",
           "#00cc96",
           "#ab63fa",
           "#FFA15A",
           "#19d3f3",
           "#FF6692",
           "#B6E880",
           "#FF97FF",
           "#FECB52"
          ],
          "font": {
           "color": "#2a3f5f"
          },
          "geo": {
           "bgcolor": "white",
           "lakecolor": "white",
           "landcolor": "#E5ECF6",
           "showlakes": true,
           "showland": true,
           "subunitcolor": "white"
          },
          "hoverlabel": {
           "align": "left"
          },
          "hovermode": "closest",
          "mapbox": {
           "style": "light"
          },
          "paper_bgcolor": "white",
          "plot_bgcolor": "#E5ECF6",
          "polar": {
           "angularaxis": {
            "gridcolor": "white",
            "linecolor": "white",
            "ticks": ""
           },
           "bgcolor": "#E5ECF6",
           "radialaxis": {
            "gridcolor": "white",
            "linecolor": "white",
            "ticks": ""
           }
          },
          "scene": {
           "xaxis": {
            "backgroundcolor": "#E5ECF6",
            "gridcolor": "white",
            "gridwidth": 2,
            "linecolor": "white",
            "showbackground": true,
            "ticks": "",
            "zerolinecolor": "white"
           },
           "yaxis": {
            "backgroundcolor": "#E5ECF6",
            "gridcolor": "white",
            "gridwidth": 2,
            "linecolor": "white",
            "showbackground": true,
            "ticks": "",
            "zerolinecolor": "white"
           },
           "zaxis": {
            "backgroundcolor": "#E5ECF6",
            "gridcolor": "white",
            "gridwidth": 2,
            "linecolor": "white",
            "showbackground": true,
            "ticks": "",
            "zerolinecolor": "white"
           }
          },
          "shapedefaults": {
           "line": {
            "color": "#2a3f5f"
           }
          },
          "ternary": {
           "aaxis": {
            "gridcolor": "white",
            "linecolor": "white",
            "ticks": ""
           },
           "baxis": {
            "gridcolor": "white",
            "linecolor": "white",
            "ticks": ""
           },
           "bgcolor": "#E5ECF6",
           "caxis": {
            "gridcolor": "white",
            "linecolor": "white",
            "ticks": ""
           }
          },
          "title": {
           "x": 0.05
          },
          "xaxis": {
           "automargin": true,
           "gridcolor": "white",
           "linecolor": "white",
           "ticks": "",
           "title": {
            "standoff": 15
           },
           "zerolinecolor": "white",
           "zerolinewidth": 2
          },
          "yaxis": {
           "automargin": true,
           "gridcolor": "white",
           "linecolor": "white",
           "ticks": "",
           "title": {
            "standoff": 15
           },
           "zerolinecolor": "white",
           "zerolinewidth": 2
          }
         }
        },
        "title": {
         "text": "Most Sold Chocolates per Country"
        }
       }
      }
     },
     "metadata": {},
     "output_type": "display_data"
    }
   ],
   "source": [
    "fig = px.treemap(df, path=[px.Constant(\"all\"), 'Country', 'Product'], values='Boxes Shipped',\n",
    "                 color='Boxes Shipped',\n",
    "                 title='Most Sold Chocolates per Country')\n",
    "fig.update_traces(root_color=\"lightgrey\")\n",
    "fig.update_layout(margin = dict(t=100, l=25, r=25, b=25))\n",
    "fig.show()"
   ]
  },
  {
   "cell_type": "markdown",
   "id": "e35e2c14",
   "metadata": {},
   "source": [
    "**Note: Hasil visualisasi ini bisa dilihat di gambar dengan judul treemap_plot.png*\n",
    "\n",
    "**Jawaban**\n",
    "\n",
    "Berdasarkan treemap di atas didapatkan jawaban yaitu:\n",
    "- Pada negara Australia, produk cokelat yang paling banyak terjual adalah 50% Dark Bites dengan jumlah produk yang terjual sebesar 3.182.\n",
    "- Pada negara UK, produk cokelat yang paling banyak terjual adalah Milk Bars dengan jumlah produk yang terjual sebesar 2251.\n",
    "- Pada negara India, produk cokelat yang paling banyak terjual adalah Spicy Special Slims dengan jumlah produk yang terjual sebesar 2037.\n",
    "- Pada negara Canada, produk cokelat yang paling banyak terjual adalah Choco Coated Almonds dengan jumlah produk yang terjual sebesar 2452.\n",
    "- Pada negara USA, produk cokelat yang paling banyak terjual adalah Fruit & Nut Bars dengan jumlah produk yang terjual sebesar 2061.\n",
    "- Pada negara New Zealand, produk cokelat yang paling banyak terjual adalah Mint Chip Choco dengan jumlah produk yang terjual sebesar 2537.\n",
    "\n",
    "Hal ini menunjukkan bahwa masing-masing negara memiliki preferensi produk cokelat tersendiri. Lalu ditemukan produk Milk Choc menjadi produk terlaris di beberapa negara."
   ]
  },
  {
   "cell_type": "markdown",
   "id": "02c464b8",
   "metadata": {},
   "source": [
    "## 8. Kinerja Penjualan Setiap Sales Person\n",
    "---\n",
    "\n",
    "Setelah menganalisis dari penjualan dan pendatapan tiap negara, kita juga perlu memahami siapa yang membuat penjualan ini terjadi. Bagian ini akan menunjukkan total pendapatan dari setiap penjual, yang di mana sekaligus akan menjawab pertanyaan:\n",
    "\n",
    "**Bagaimana kinerja penjualan setiap sales person?**\n",
    "\n",
    "---"
   ]
  },
  {
   "cell_type": "code",
   "execution_count": 25,
   "id": "57b21018",
   "metadata": {},
   "outputs": [
    {
     "data": {
      "image/png": "[encoded data removed]",
      "text/plain": [
       "<Figure size 1300x600 with 1 Axes>"
      ]
     },
     "metadata": {},
     "output_type": "display_data"
    }
   ],
   "source": [
    "# Melakukan grouping data\n",
    "coverage = df.groupby('Sales Person')['Amount'].sum().sort_values()\n",
    "\n",
    "# Membuat Visualisasi\n",
    "plt.figure(figsize=(13,6))\n",
    "bars = plt.barh(coverage.index, coverage.values, color='steelblue')\n",
    "\n",
    "# Tambahkan nilai di ujung batang\n",
    "for bar in bars:\n",
    "    plt.text(\n",
    "        bar.get_width() + 0.1,             # posisi X: sedikit di kanan ujung batang\n",
    "        bar.get_y() + bar.get_height()/2,  # posisi Y: tengah batang\n",
    "        f\"{bar.get_width():,.0f}\",         # Format angka ribuan tanpa desimal\n",
    "        va='center', fontsize=9\n",
    "    )\n",
    "\n",
    "plt.xlabel('Total Amount')\n",
    "plt.title('Total Sales Amount per Salesperson')\n",
    "plt.tight_layout()\n",
    "plt.show()\n"
   ]
  },
  {
   "cell_type": "markdown",
   "id": "39422ae7",
   "metadata": {},
   "source": [
    "**Jawaban**\n",
    "\n",
    "Dari visualisasi di atas dapat diketahui:\n",
    "- Sales person berkinerja tinggi (3 Teratas):\n",
    "    - Ches Bonneli (320.901), Oby Sorrel (316.645), dan Madeleine Upcott (316.099) merupakan 3 teratas dalam hal kinerja penjualan.\n",
    "- Sales person berkinerja rendah (3 terbawag):\n",
    "    - Wilone O'Kielt (138.523), Dotty Strutley (190.624), dan Camilla Castle (196.616) merupakan 3 terbawah dalam hal kinerja penjualan, yang di mana Wilone O'Kielt mendapatkan total penjualan hampir setengah dari Ches Bonneli."
   ]
  },
  {
   "cell_type": "markdown",
   "id": "74398cae",
   "metadata": {},
   "source": [
    "# vi. Conclusion\n",
    "---"
   ]
  },
  {
   "cell_type": "markdown",
   "id": "80938800",
   "metadata": {},
   "source": [
    "Kesimpulan yang didapat dari hasil analisis ekplorasi data yaitu:\n",
    "- Pada tren penjualan dan jumlah pengiriman produk mengalami pola yang fluktuatif di setiap bulannya, yang di mana terlihat pada bulan Januari dan Juni 2022 mengalami penjualan yang tinggi dan mencapai titik tertinggi, lalu pada bulan Februari mengalami penurunan yang tajam. Penyebab fluktuasi ini perlu dianalisis lebih lanjut.\n",
    "- Banyaknya produk terjual belum tentu berarti pendapatan lebih tinggi, kemungkinan karena harga produk yang bervariasi. Hal ini ditunjukan dengan korelasi yang lemah (rho = -0.02).\n",
    "- Tidak ada perbedaan yang siginifikan dalam total pendapatan antar 6 negara yang telah diuji menggunakan uji ANOVA.\n",
    "- Setiap negara memiliki preferensi produk cokelat terlarisnya masing-masing.\n",
    "- Ada perbedaan yang signifikan antara kinerja performa sales person tertinggi dan kinerja performa sales person terendah dalam menghasilkan pendapatan.\n"
   ]
  },
  {
   "cell_type": "markdown",
   "id": "552babb1",
   "metadata": {},
   "source": [
    "Rekomendasi:\n",
    "\n",
    "- Untuk menjelaskan insight dari tren penjualan dan jumlah pengiriman produk dapat dilakukan penambahan dan pencatatan data mengenai promosi khusus atau kampanye pemasaran, event eksternal, dan data permasalahan operasional/distribusi untuk analisis yang lebih akurat.\n",
    "- Fokus pada promosi dan ketersedian produk terlaris di setiap negara sesuai preferensinya masing-masing.\n",
    "- Melakukan implementasi program pelatihan berdasarkan kinerja performa sales person tertinggi dan kinerja performa sales person terendah. Lalu pada sales person berkinerja performa rendah diberikan pembinaan bertarget untuk meningkatkan kinerja tim secara keseluruhan."
   ]
  }
 ],
 "metadata": {
  "kernelspec": {
   "display_name": "base",
   "language": "python",
   "name": "python3"
  },
  "language_info": {
   "codemirror_mode": {
    "name": "ipython",
    "version": 3
   },
   "file_extension": ".py",
   "mimetype": "text/x-python",
   "name": "python",
   "nbconvert_exporter": "python",
   "pygments_lexer": "ipython3",
   "version": "3.9.21"
  }
 },
 "nbformat": 4,
 "nbformat_minor": 5
}
